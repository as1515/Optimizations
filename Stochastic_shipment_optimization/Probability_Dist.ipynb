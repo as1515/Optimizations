{
 "cells": [
  {
   "cell_type": "code",
   "execution_count": 168,
   "id": "12015e0b",
   "metadata": {},
   "outputs": [],
   "source": [
    "import pandas as pd\n",
    "import numpy as np\n",
    "import psycopg2\n",
    "from sqlalchemy import create_engine\n",
    "import matplotlib.pyplot as plt\n",
    "from scipy.stats import norm, lognorm, kstest, truncnorm\n",
    "from collections import Counter"
   ]
  },
  {
   "cell_type": "code",
   "execution_count": 169,
   "id": "f267a8a0",
   "metadata": {},
   "outputs": [],
   "source": [
    "product_list = pd.read_excel('shipment_stochastic.xlsx', engine = 'openpyxl')\n",
    "product_codes = product_list['Code'].tolist()"
   ]
  },
  {
   "cell_type": "code",
   "execution_count": 170,
   "id": "eb9c371b",
   "metadata": {},
   "outputs": [],
   "source": [
    "db_config = {'user': 'XXXXXX','password': 'XXXXXX','host': 'XXXXXX','port': '5432', 'database': 'XXXXXX'}\n",
    "engine = create_engine(f\"postgresql+psycopg2://{db_config['user']}:{db_config['password']}@{db_config['host']}:{db_config['port']}/{db_config['database']}\")\n",
    "query = f\"\"\"\n",
    "    SELECT imtrn.xitem, caitem.xdesc,imtrn.xyear, imtrn.xper, imtrn.xqty, imtrn.xval, opddt.xlineamt, imtrn.xdocnum\n",
    "    FROM imtrn \n",
    "    JOIN caitem\n",
    "    ON imtrn.xitem = caitem.xitem\n",
    "    JOIN opddt\n",
    "    ON imtrn.xdocnum = opddt.xdornum AND imtrn.xitem = opddt.xcode\n",
    "    WHERE imtrn.zid = 100001\n",
    "    AND caitem.zid = 100001\n",
    "    AND opddt.zid = 100001\n",
    "    AND imtrn.xitem IN %(product_codes)s\n",
    "    \"\"\"\n",
    "sales_data = pd.read_sql(query, con=engine, params={\"product_codes\": tuple(product_codes)})"
   ]
  },
  {
   "cell_type": "code",
   "execution_count": 171,
   "id": "101cfd54",
   "metadata": {},
   "outputs": [],
   "source": [
    "month_sales_df = sales_data.groupby(['xitem', 'xdesc', 'xyear', 'xper']).agg({\n",
    "        'xqty': 'sum',\n",
    "        'xval': 'sum',\n",
    "        'xlineamt': 'sum'}).reset_index()"
   ]
  },
  {
   "cell_type": "code",
   "execution_count": 172,
   "id": "ffc33956",
   "metadata": {},
   "outputs": [],
   "source": [
    "month_sales_df['Profit'] = month_sales_df['xlineamt'] - month_sales_df['xval']\n",
    "month_sales_df['Profit/unit'] = month_sales_df['Profit']/month_sales_df['xqty']\n",
    "month_sales_df = month_sales_df[month_sales_df['Profit'] > 0]\n",
    "month_sales_df = month_sales_df[month_sales_df['xyear'] > 2020]"
   ]
  },
  {
   "cell_type": "code",
   "execution_count": 173,
   "id": "c2509bd7",
   "metadata": {},
   "outputs": [],
   "source": [
    "#create a distribution type table for all the products within the monthly sales data. using ks-test and p values\n",
    "#need to investigate the shape, location and scale of lognormal and see why the random generations are relegated to the upper threshold\n",
    "# Done separately to verify distribution type\n",
    "grouped = month_sales_df.groupby('xitem')\n",
    "distribution_summary = []\n",
    "\n",
    "for product_code, product_data in grouped:\n",
    "    \n",
    "    #Demand or quantity sold distribution for all the months for this product within the sales data\n",
    "    demand_mean, demand_std = norm.fit(product_data['xqty'])\n",
    "    ks_stat_normal, p_value_normal = kstest(product_data['xqty'], 'norm', args=(demand_mean, demand_std))\n",
    "\n",
    "    log_shape, log_loc, log_scale = lognorm.fit(product_data['xqty'], floc=0)\n",
    "    ks_stat_lognorm, p_value_lognorm = kstest(product_data['xqty'], 'lognorm', args=(log_shape, log_loc, log_scale))\n",
    "\n",
    "    if p_value_normal > 0.05:\n",
    "        best_fit_demand = 'Normal'\n",
    "    elif p_value_lognorm > 0.05:\n",
    "        best_fit_demand = 'Lognormal'\n",
    "    else:\n",
    "        best_fit_demand = 'Empirical'\n",
    "\n",
    "    profitr_mean, profitr_std = norm.fit(product_data['Profit/unit'])\n",
    "    ks_stat_normal_profitr, p_value_normal_profitr = kstest(product_data['Profit/unit'], 'norm', args=(profitr_mean, profitr_std))\n",
    "\n",
    "    log_shape_profitr, log_loc_profitr, log_scale_profitr = lognorm.fit(product_data['Profit/unit'], floc=0)\n",
    "    ks_stat_lognorm_profitr, p_value_lognorm_profitr = kstest(product_data['Profit/unit'], 'lognorm', args=(log_shape_profitr, log_loc_profitr, log_scale_profitr))\n",
    "\n",
    "    if p_value_normal_profitr > 0.05:\n",
    "        best_fit_profit = 'Normal'\n",
    "    elif p_value_lognorm_profitr > 0.05:\n",
    "        best_fit_profit = 'Lognormal'\n",
    "    else:\n",
    "        best_fit_profit = 'Empirical'\n",
    "\n",
    "    distribution_summary.append({\n",
    "        'xitem': product_code,\n",
    "        'Demand_Distribution': best_fit_demand,\n",
    "        'Profit_Ratio_Distribution': best_fit_profit\n",
    "    })\n",
    "\n",
    "distribution_summary_df = pd.DataFrame(distribution_summary)"
   ]
  },
  {
   "cell_type": "code",
   "execution_count": 174,
   "id": "087a70d7",
   "metadata": {},
   "outputs": [],
   "source": [
    "#Take the distribution type from the previously created dataframe and \n",
    "#create scenarios with given probabilities based on the distribution type\n",
    "num_scenarios = 3\n",
    "num_bins = 10\n",
    "scenarios_list = []\n",
    "\n",
    "for index, row in distribution_summary_df.iterrows():\n",
    "    product_code = row['xitem']\n",
    "    demand_dist = row['Demand_Distribution']\n",
    "    profit_dist = row['Profit_Ratio_Distribution']\n",
    "    product_data = month_sales_df[month_sales_df['xitem'] == product_code]\n",
    "    \n",
    "    #For demand scenarios\n",
    "    if demand_dist == 'Normal':\n",
    "        demand_mean, demand_std = norm.fit(product_data['xqty'])\n",
    "        lower, upper = 0, product_data['xqty'].max()\n",
    "        a, b = (lower - demand_mean)/ demand_std, (upper - demand_mean) / demand_std\n",
    "        demand_scenarios = truncnorm.rvs(a, b, loc=demand_mean, scale=demand_std, size=num_scenarios)\n",
    "        demand_probabilities = norm.pdf(demand_scenarios, demand_mean, demand_std)\n",
    "        demand_probabilities /= demand_probabilities.sum()\n",
    "    else: #lognormal and empirical\n",
    "        demand_bins = pd.cut(product_data['xqty'],bins=num_bins)\n",
    "        bin_counts = demand_bins.value_counts()\n",
    "        bin_probabilities = bin_counts / bin_counts.sum()\n",
    "        bin_intervals = bin_probabilities.index\n",
    "        \n",
    "        demand_scenarios = []\n",
    "        demand_probabilities = []\n",
    "        for _ in range(num_scenarios):\n",
    "            chosen_bin = np.random.choice(bin_intervals, p=bin_probabilities)\n",
    "            demand_scenarios.append(np.random.uniform(chosen_bin.left, chosen_bin.right))\n",
    "            demand_probabilities.append(bin_probabilities[chosen_bin])\n",
    "        \n",
    "        demand_probabilities = np.array(demand_probabilities)\n",
    "        demand_probabilities /= demand_probabilities.sum()\n",
    "        \n",
    "    # For profit ratio scenarios\n",
    "    if profit_dist == 'Normal':\n",
    "        profit_mean, profit_std = norm.fit(product_data['Profit/unit'])\n",
    "        lower, upper = 0, product_data['Profit/unit'].max()\n",
    "        a, b = (lower - profit_mean)/ profit_std, (upper - profit_mean) / profit_std\n",
    "        profitr_scenarios = truncnorm.rvs(a, b, loc=profit_mean, scale=profit_std, size=num_scenarios)\n",
    "        profit_probabilities = norm.pdf(profitr_scenarios, profit_mean, profit_std)\n",
    "        profit_probabilities /= profit_probabilities.sum()\n",
    "    else: #lognormal and empirical\n",
    "        profit_bins = pd.cut(product_data['Profit/unit'],bins=num_bins)\n",
    "        bin_counts = profit_bins.value_counts()\n",
    "        bin_probabilities = bin_counts / bin_counts.sum()\n",
    "        bin_intervals = bin_probabilities.index\n",
    "        \n",
    "        profitr_scenarios = []\n",
    "        profitr_probabilities = []\n",
    "        for _ in range(num_scenarios):\n",
    "            chosen_bin = np.random.choice(bin_intervals, p=bin_probabilities)\n",
    "            profitr_scenarios.append(np.random.uniform(chosen_bin.left, chosen_bin.right))\n",
    "            profitr_probabilities.append(bin_probabilities[chosen_bin])\n",
    "        \n",
    "        profitr_probabilities = np.array(profitr_probabilities)\n",
    "        profitr_probabilities /= profitr_probabilities.sum()\n",
    "\n",
    "    profit_scenarios = [demand * ratio for demand, ratio in zip(demand_scenarios, profitr_scenarios)]\n",
    "    scenario_probabilities = (np.array(demand_probabilities) + np.array(profit_probabilities)) / 2\n",
    "\n",
    "    product_scenarios = pd.DataFrame({\n",
    "        'Scenario': range(1, num_scenarios + 1),\n",
    "        'Probability': scenario_probabilities,\n",
    "        'Product_Code': [product_code] * num_scenarios,\n",
    "        'Demand/month': demand_scenarios,\n",
    "        'Total_Profit': profit_scenarios\n",
    "    })\n",
    "    \n",
    "    scenarios_list.append(product_scenarios)\n",
    "scenarios_df = pd.concat(scenarios_list, ignore_index=True)\n"
   ]
  },
  {
   "cell_type": "code",
   "execution_count": 175,
   "id": "9c608df6",
   "metadata": {},
   "outputs": [],
   "source": [
    "scenarios_df.to_excel('scenarios.xlsx')"
   ]
  },
  {
   "cell_type": "code",
   "execution_count": 176,
   "id": "306c8291",
   "metadata": {},
   "outputs": [],
   "source": [
    "month_sales_df.to_excel('month_sales.xlsx')"
   ]
  },
  {
   "cell_type": "code",
   "execution_count": 177,
   "id": "a787ba59",
   "metadata": {},
   "outputs": [],
   "source": [
    "distribution_summary_df.to_excel('dist_summary.xlsx')"
   ]
  },
  {
   "cell_type": "code",
   "execution_count": 178,
   "id": "76431ea8",
   "metadata": {},
   "outputs": [
    {
     "data": {
      "text/plain": [
       "Index(['Scenario', 'Probability', 'Product_Code', 'Demand/month',\n",
       "       'Total_Profit'],\n",
       "      dtype='object')"
      ]
     },
     "execution_count": 178,
     "metadata": {},
     "output_type": "execute_result"
    }
   ],
   "source": [
    "scenarios_df.columns"
   ]
  },
  {
   "cell_type": "code",
   "execution_count": null,
   "id": "ea69e0ea",
   "metadata": {},
   "outputs": [],
   "source": []
  },
  {
   "cell_type": "code",
   "execution_count": null,
   "id": "8b156d05",
   "metadata": {},
   "outputs": [],
   "source": []
  },
  {
   "cell_type": "code",
   "execution_count": 91,
   "id": "63d05e66",
   "metadata": {},
   "outputs": [],
   "source": []
  },
  {
   "cell_type": "code",
   "execution_count": 116,
   "id": "74bf79a1",
   "metadata": {},
   "outputs": [
    {
     "data": {
      "image/png": "[encoded data removed]",
      "text/plain": [
       "<Figure size 720x360 with 1 Axes>"
      ]
     },
     "metadata": {
      "needs_background": "light"
     },
     "output_type": "display_data"
    }
   ],
   "source": [
    "#check individual product distributions\n",
    "p0156 = month_sales_df[month_sales_df['xitem']=='0156']\n",
    "plt.figure(figsize=(10, 5))\n",
    "plt.hist(p0156['xqty'], bins=100, alpha=0.7, label='Demand')\n",
    "# plt.hist(month_sales_df['Profit'], bins=20, alpha=0.7, label='Profit')\n",
    "plt.xlabel('Value')\n",
    "plt.ylabel('Frequency')\n",
    "plt.legend()\n",
    "plt.title(f'Historical Demand and Profit Distribution for Product {product_code}')\n",
    "plt.show()"
   ]
  },
  {
   "cell_type": "code",
   "execution_count": 114,
   "id": "3bb0ba0a",
   "metadata": {},
   "outputs": [
    {
     "name": "stdout",
     "output_type": "stream",
     "text": [
      "Estimated parameters for demand - Mean: 2154.44, Std Dev: 2504.19168723163\n",
      "Estimated parameters for profit - Mean: 14760.614611120003, Std Dev: 18645.54308263297\n"
     ]
    }
   ],
   "source": [
    "demand_mean, demand_std = norm.fit(p0430['xqty'])\n",
    "print(f'Estimated parameters for demand - Mean: {demand_mean}, Std Dev: {demand_std}')\n",
    "\n",
    "profit_mean, profit_std = norm.fit(p0430['Profit'])\n",
    "print(f'Estimated parameters for profit - Mean: {profit_mean}, Std Dev: {profit_std}')"
   ]
  },
  {
   "cell_type": "code",
   "execution_count": 115,
   "id": "cb62b2e3",
   "metadata": {},
   "outputs": [
    {
     "name": "stdout",
     "output_type": "stream",
     "text": [
      "K-S test statistic for demand: 0.28637210489545384, p-value: 0.026192282728633942\n",
      "The normal distribution may not be a good fit for demand.\n"
     ]
    }
   ],
   "source": [
    "from scipy.stats import kstest\n",
    "\n",
    "# Test goodness of fit for demand\n",
    "ks_stat, p_value = kstest(p0430['xqty'], 'norm', args=(demand_mean, demand_std))\n",
    "print(f'K-S test statistic for demand: {ks_stat}, p-value: {p_value}')\n",
    "\n",
    "# Interpret the p-value (p > 0.05 means the distribution fits well)\n",
    "if p_value > 0.05:\n",
    "    print(\"The normal distribution is a good fit for demand.\")\n",
    "else:\n",
    "    print(\"The normal distribution may not be a good fit for demand.\")"
   ]
  },
  {
   "cell_type": "code",
   "execution_count": null,
   "id": "56581f79",
   "metadata": {},
   "outputs": [],
   "source": [
    "    \n",
    "#     #Profit distribution for all the months for this product within the sales data\n",
    "#     profit_mean, profit_std = norm.fit(product_data['Profit'])\n",
    "#     ks_stat_normal_profit, p_value_normal_profit = kstest(product_data['Profit'], 'norm', args=(profit_mean, profit_std))\n",
    "\n",
    "#     log_shape_profit, log_loc_profit, log_scale_profit = lognorm.fit(product_data['Profit'], floc=0)\n",
    "#     ks_stat_lognorm_profit, p_value_lognorm_profit = kstest(product_data['Profit'], 'lognorm', args=(log_shape_profit, log_loc_profit, log_scale_profit))\n",
    "\n",
    "#     if p_value_normal_profit > 0.05:\n",
    "#         best_fit_profit = 'Normal'\n",
    "#     elif p_value_lognorm_profit > 0.05:\n",
    "#         best_fit_profit = 'Lognormal'\n",
    "#     else:\n",
    "#         best_fit_profit = 'Empirical'\n",
    "    \n",
    "    #Profit ratio probability distribution. \n",
    "#     elif demand_dist == 'Lognormal':\n",
    "#         log_shape, log_loc, log_scale = lognorm.fit(product_data['xqty'], floc=0)\n",
    "        \n",
    "#         lower_threshold_demand = np.percentile(product_data['xqty'], 5)\n",
    "#         upper_threshold_demand = np.percentile(product_data['xqty'], 95) \n",
    "\n",
    "#         max_attempts = 100\n",
    "\n",
    "#         demand_scenarios = []\n",
    "#         for _ in range(num_scenarios):\n",
    "#             attempts = 0\n",
    "#             while attempts < max_attempts:\n",
    "#                 sampled_value = np.random.lognormal(log_scale, log_shape)\n",
    "#                 if lower_threshold_demand <= sampled_value <= upper_threshold_demand:\n",
    "#                     demand_scenarios.append(sampled_value)\n",
    "#                     break\n",
    "#                 attempts += 1\n",
    "\n",
    "#             if attempts == max_attempts:\n",
    "#                 demand_scenarios.append(upper_threshold_demand)\n",
    "                \n",
    "#         demand_probabilities = lognorm.pdf(demand_scenarios, log_shape, log_loc, log_scale)\n",
    "#         demand_probabilities /= demand_probabilities.sum()\n",
    "    \n",
    "    #     elif profit_dist == 'Lognormal':\n",
    "#         log_shape_profit, log_loc_profit, log_scale_profit = lognorm.fit(product_data['Profit/unit'], floc=0)\n",
    "#         lower_threshold_profit = np.percentile(product_data['Profit/unit'], 5) \n",
    "#         upper_threshold_profit = np.percentile(product_data['Profit/unit'], 95) \n",
    "        \n",
    "#         max_attempts = 100\n",
    "\n",
    "#         profitr_scenarios = []\n",
    "#         for _ in range(num_scenarios):\n",
    "#             attempts = 0\n",
    "#             while attempts < max_attempts:\n",
    "#                 sampled_value = np.random.lognormal(log_scale_profit, log_shape_profit)\n",
    "#                 if lower_threshold_profit <= sampled_value <= upper_threshold_profit:\n",
    "#                     profitr_scenarios.append(sampled_value)\n",
    "#                     break\n",
    "#                 attempts += 1\n",
    "\n",
    "#             if attempts == max_attempts:\n",
    "#                 profitr_scenarios.append(upper_threshold_profit)\n",
    "                \n",
    "#         profit_probabilities = lognorm.pdf(profitr_scenarios, log_shape_profit, log_loc_profit, log_scale_profit)\n",
    "#         profit_probabilities /= profit_probabilities.sum() #log normal data is sparse in our case and correct calculation might not be possible"
   ]
  }
 ],
 "metadata": {
  "kernelspec": {
   "display_name": "Python 3",
   "language": "python",
   "name": "python3"
  },
  "language_info": {
   "codemirror_mode": {
    "name": "ipython",
    "version": 3
   },
   "file_extension": ".py",
   "mimetype": "text/x-python",
   "name": "python",
   "nbconvert_exporter": "python",
   "pygments_lexer": "ipython3",
   "version": "3.6.9"
  }
 },
 "nbformat": 4,
 "nbformat_minor": 5
}
