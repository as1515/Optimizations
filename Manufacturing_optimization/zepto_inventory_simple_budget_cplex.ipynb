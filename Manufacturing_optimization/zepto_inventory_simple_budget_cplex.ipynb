{
 "cells": [
  {
   "cell_type": "code",
   "execution_count": 105,
   "id": "102ef327",
   "metadata": {},
   "outputs": [],
   "source": [
    "import pandas as pd\n",
    "from cplex import Cplex"
   ]
  },
  {
   "cell_type": "code",
   "execution_count": 106,
   "id": "f55f7149",
   "metadata": {},
   "outputs": [],
   "source": [
    "finished_raw_data = pd.read_excel('finished_raw_ratio_rate.xlsx', engine = 'openpyxl')\n",
    "sales_data = pd.read_excel('Average_sales_product.xlsx', engine = 'openpyxl')\n",
    "raw_rate = pd.read_excel('raw_rate.xlsx', engine = 'openpyxl')"
   ]
  },
  {
   "cell_type": "code",
   "execution_count": 107,
   "id": "90ab657b",
   "metadata": {},
   "outputs": [
    {
     "name": "stdout",
     "output_type": "stream",
     "text": [
      "Index(['Unnamed: 0', 'goods', 'raw', 'xqty/unit', 'xrate'], dtype='object')\n",
      "Index(['Unnamed: 0', 'xitem', 'xdesc', 'xqty', 'xval', 'xlineamt'], dtype='object')\n",
      "Index(['Unnamed: 0', 'raw', 'xrate'], dtype='object')\n"
     ]
    }
   ],
   "source": [
    "print(finished_raw_data.columns)\n",
    "print(sales_data.columns)\n",
    "print(raw_rate.columns)"
   ]
  },
  {
   "cell_type": "code",
   "execution_count": 108,
   "id": "14442b97",
   "metadata": {},
   "outputs": [
    {
     "name": "stdout",
     "output_type": "stream",
     "text": [
      "992123.87\n"
     ]
    }
   ],
   "source": [
    "budget = sales_data['xval'].sum() * 1.0\n",
    "print(budget)"
   ]
  },
  {
   "cell_type": "code",
   "execution_count": 109,
   "id": "78871fc2",
   "metadata": {},
   "outputs": [],
   "source": [
    "# load all the products sold and average sales qty\n",
    "products = sales_data['xitem'].unique()\n",
    "average_sales = dict(zip(sales_data['xitem'], sales_data['xqty']))\n",
    "\n",
    "# load raw materials relations \n",
    "raw_materials = raw_rate['raw'].unique()\n",
    "raw_material_cost = dict(zip(raw_rate['raw'], raw_rate['xrate']))"
   ]
  },
  {
   "cell_type": "code",
   "execution_count": 110,
   "id": "7221e03e",
   "metadata": {},
   "outputs": [],
   "source": [
    "#problem setup\n",
    "problem = Cplex()\n",
    "problem.set_problem_type(Cplex.problem_type.LP)\n",
    "# problem.objective.set_sense(problem.objective.sense.minimize)\n",
    "problem.objective.set_sense(problem.objective.sense.maximize)\n"
   ]
  },
  {
   "cell_type": "code",
   "execution_count": 111,
   "id": "ce72a2f2",
   "metadata": {},
   "outputs": [],
   "source": [
    "# add decision variables for the problem\n",
    "raw_material_vars = {material: problem.variables.add(\n",
    "names=[f\"x_{material}\"], lb=[0], ub=[float('inf')])[0] for material in raw_materials}\n",
    "# print(raw_material_vars)"
   ]
  },
  {
   "cell_type": "code",
   "execution_count": 112,
   "id": "cd28cd78",
   "metadata": {},
   "outputs": [],
   "source": [
    "# complete coefficients and indices and setup objective \n",
    "cost_coefficients = [raw_material_cost[material] for material in raw_materials]\n",
    "variable_indices = [raw_material_vars[material] for material in raw_materials]\n",
    "\n",
    "# minimize cost\n",
    "# problem.objective.set_linear(zip(variable_indices, cost_coefficients))\n",
    "problem.objective.set_linear([(raw_material_vars[material], 1) for material in raw_materials])"
   ]
  },
  {
   "cell_type": "code",
   "execution_count": 113,
   "id": "507bea35",
   "metadata": {},
   "outputs": [],
   "source": [
    "# constraints \n",
    "for product in products:\n",
    "    required_materials = finished_raw_data[finished_raw_data['goods'] == product]\n",
    "    product_demand = average_sales[product]\n",
    "    \n",
    "    for material in raw_materials:\n",
    "        filtered_material = required_materials[required_materials['raw'] == material]\n",
    "        \n",
    "        if not filtered_material.empty:\n",
    "            required_units = filtered_material['xqty/unit'].values[0] * product_demand\n",
    "            if required_units > 0:\n",
    "                    problem.linear_constraints.add(\n",
    "                    lin_expr=[[ [raw_material_vars[material]], [required_units] ]], \n",
    "                    senses=['L'],\n",
    "                    rhs=[required_units],\n",
    "                    names=[f\"Demand_Constraint_{product}_{material}\"]\n",
    "                )\n",
    "        else:\n",
    "            continue"
   ]
  },
  {
   "cell_type": "code",
   "execution_count": 114,
   "id": "d407b01c",
   "metadata": {},
   "outputs": [
    {
     "data": {
      "text/plain": [
       "range(737, 738)"
      ]
     },
     "execution_count": 114,
     "metadata": {},
     "output_type": "execute_result"
    }
   ],
   "source": [
    "total_cost_expr = [[list(raw_material_vars.values()), [raw_material_cost[material] for material in raw_materials]]]\n",
    "problem.linear_constraints.add(\n",
    "    lin_expr=total_cost_expr,\n",
    "    senses=['L'],\n",
    "    rhs=[budget],\n",
    "    names=[\"Budget_Constraint\"]\n",
    ")"
   ]
  },
  {
   "cell_type": "code",
   "execution_count": 115,
   "id": "5d1e0465",
   "metadata": {},
   "outputs": [
    {
     "name": "stdout",
     "output_type": "stream",
     "text": [
      "Version identifier: 12.10.0.0 | 2019-11-27 | 843d4de\n",
      "CPXPARAM_Read_DataCheck                          1\n",
      "Tried aggregator 1 time.\n",
      "LP Presolve eliminated 738 rows and 121 columns.\n",
      "All rows and columns eliminated.\n",
      "Presolve time = 0.00 sec. (0.21 ticks)\n"
     ]
    }
   ],
   "source": [
    "problem.write(\"inventory_problem.lp\")\n",
    "problem.solve()\n",
    "solution = {}\n",
    "for material in raw_materials:\n",
    "    index = raw_material_vars[material]\n",
    "    solution[material] = problem.solution.get_values(index)"
   ]
  },
  {
   "cell_type": "code",
   "execution_count": 116,
   "id": "c233c1bc",
   "metadata": {},
   "outputs": [
    {
     "name": "stdout",
     "output_type": "stream",
     "text": [
      "Optimal Quantities of Raw Materials to Purchase:\n",
      "RZ000001: 1.0\n",
      "RZ000002: 1.0\n",
      "RZ000003: 1.0\n",
      "RZ000004: 1.0\n",
      "RZ000005: 1.0\n",
      "RZ000006: 1.0\n",
      "RZ000007: 1.0\n",
      "RZ000009: 1.0\n",
      "RZ000010: 1.0\n",
      "RZ000012: 1.0\n",
      "RZ000021: 1.0\n",
      "RZ000030: 1.0\n",
      "RZ000138: 1.0\n",
      "RZ000148: 0.9999999999999999\n",
      "RZ000157: 1.0\n",
      "RZ000158: 0.9999999999999999\n",
      "RZ000159: 1.0\n",
      "RZ000160: 1.0\n",
      "RZ000172: 1.0\n",
      "RZ000173: 1.0\n",
      "RZ000176: 1.0\n",
      "RZ000177: 1.0\n",
      "RZ000178: 1.0\n",
      "RZ000180: 1.0\n",
      "RZ000181: 1.0\n",
      "RZ000193: 1.0\n",
      "RZ000199: 1.0\n",
      "RZ000223: 1.0\n",
      "RZ000228: 1.0\n",
      "RZ000230: 1.0\n",
      "RZ000235: 1.0\n",
      "RZ000241: 1.0\n",
      "RZ000254: 1.0\n",
      "RZ000270: 1.0\n",
      "RZ000273: 1.0\n",
      "RZ000274: 1.0\n",
      "RZ000275: 1.0\n",
      "RZ000276: 1.0\n",
      "RZ000277: 1.0\n",
      "RZ000278: 1.0\n",
      "RZ000279: 1.0\n",
      "RZ000282: 1.0\n",
      "RZ000303: 1.0\n",
      "RZ000304: 1.0\n",
      "RZ000305: 0.9999999999999999\n",
      "RZ000309: 1.0\n",
      "RZ000310: 1.0\n",
      "RZ000311: 1.0\n",
      "RZ000312: 1.0\n",
      "RZ000315: 1.0\n",
      "RZ000316: 1.0\n",
      "RZ000317: 0.9999999999999999\n",
      "RZ000319: 0.9999999999999999\n",
      "RZ000320: 0.9999999999999999\n",
      "RZ000325: 1.0\n",
      "RZ000326: 1.0\n",
      "RZ000332: 1.0\n",
      "RZ000343: 1.0\n",
      "RZ000344: 1.0\n",
      "RZ000345: 1.0\n",
      "RZ000346: 1.0\n",
      "RZ000347: 1.0\n",
      "RZ000348: 1.0\n",
      "RZ000349: 1.0\n",
      "RZ000350: 1.0\n",
      "RZ000351: 0.9999999999999999\n",
      "RZ000352: 0.9999999999999999\n",
      "RZ000355: 1.0\n",
      "RZ000364: 1.0\n",
      "RZ000365: 1.0\n",
      "RZ000367: 1.0\n",
      "RZ000368: 1.0\n",
      "RZ000383: 1.0\n",
      "RZ000405: 1.0\n",
      "RZ000409: 0.9999999999999999\n",
      "RZ000410: 1.0\n",
      "RZ000411: 1.0\n",
      "RZ000413: 1.0\n",
      "RZ000415: 1.0\n",
      "RZ000418: 1.0\n",
      "RZ000419: 0.9999999999999999\n",
      "RZ000420: 1.0\n",
      "RZ000421: 1.0\n",
      "RZ000422: 1.0\n",
      "RZ000424: 1.0\n",
      "RZ000425: 1.0\n",
      "RZ000426: 1.0\n",
      "RZ000427: 1.0\n",
      "RZ000428: 1.0\n",
      "RZ000431: 1.0\n",
      "RZ000434: 1.0\n",
      "RZ000435: 1.0\n",
      "RZ000437: 1.0\n",
      "RZ000439: 1.0\n",
      "RZ000440: 1.0\n",
      "RZ000442: 1.0\n",
      "RZ000443: 1.0\n",
      "RZ000444: 1.0\n",
      "RZ000445: 1.0\n",
      "RZ000446: 0.9999999999999999\n",
      "RZ000447: 0.9999999999999999\n",
      "RZ000448: 0.9999999999999999\n",
      "RZ000451: 1.0\n",
      "RZ000452: 1.0\n",
      "RZ000453: 1.0\n",
      "RZ000454: 0.9999999999999999\n",
      "RZ000455: 0.9999999999999999\n",
      "RZ000456: 0.9999999999999999\n",
      "RZ000457: 0.9999999999999999\n",
      "RZ000458: 1.0\n",
      "RZ000459: 0.9999999999999999\n",
      "RZ000468: 1.0\n",
      "RZ000469: 1.0\n",
      "RZ000470: 0.9999999999999999\n",
      "RZ000473: 1.0\n",
      "RZ000474: 0.9999999999999999\n",
      "RZ000476: 1.0\n",
      "RZ000478: 1.0\n",
      "RZ000479: 1.0\n",
      "RZ000481: 1.0\n",
      "RZ000482: 1.0\n",
      "Total Cost: 121.0\n"
     ]
    }
   ],
   "source": [
    "print(\"Optimal Quantities of Raw Materials to Purchase:\")\n",
    "for material, quantity in solution.items():\n",
    "    print(f\"{material}: {quantity}\")\n",
    "print(f\"Total Cost: {problem.solution.get_objective_value()}\")"
   ]
  },
  {
   "cell_type": "code",
   "execution_count": null,
   "id": "01363e65",
   "metadata": {},
   "outputs": [],
   "source": []
  },
  {
   "cell_type": "code",
   "execution_count": null,
   "id": "e6d221b9",
   "metadata": {},
   "outputs": [],
   "source": []
  },
  {
   "cell_type": "code",
   "execution_count": null,
   "id": "19385132",
   "metadata": {},
   "outputs": [],
   "source": []
  },
  {
   "cell_type": "code",
   "execution_count": null,
   "id": "dd7b561e",
   "metadata": {},
   "outputs": [],
   "source": []
  },
  {
   "cell_type": "code",
   "execution_count": null,
   "id": "af7c46d4",
   "metadata": {},
   "outputs": [],
   "source": []
  },
  {
   "cell_type": "code",
   "execution_count": null,
   "id": "f67c65d5",
   "metadata": {},
   "outputs": [],
   "source": []
  },
  {
   "cell_type": "code",
   "execution_count": null,
   "id": "af96b578",
   "metadata": {},
   "outputs": [],
   "source": []
  },
  {
   "cell_type": "code",
   "execution_count": null,
   "id": "3e396eb2",
   "metadata": {},
   "outputs": [],
   "source": []
  },
  {
   "cell_type": "code",
   "execution_count": null,
   "id": "73e0a225",
   "metadata": {},
   "outputs": [],
   "source": []
  }
 ],
 "metadata": {
  "kernelspec": {
   "display_name": "Python 3",
   "language": "python",
   "name": "python3"
  },
  "language_info": {
   "codemirror_mode": {
    "name": "ipython",
    "version": 3
   },
   "file_extension": ".py",
   "mimetype": "text/x-python",
   "name": "python",
   "nbconvert_exporter": "python",
   "pygments_lexer": "ipython3",
   "version": "3.6.9"
  }
 },
 "nbformat": 4,
 "nbformat_minor": 5
}
