{
 "cells": [
  {
   "cell_type": "code",
   "execution_count": 1,
   "id": "91675320",
   "metadata": {},
   "outputs": [],
   "source": [
    "import pandas as pd\n",
    "import numpy as np\n",
    "import pulp"
   ]
  },
  {
   "cell_type": "code",
   "execution_count": 6,
   "id": "4bd787f3",
   "metadata": {},
   "outputs": [],
   "source": [
    "finished_raw_data = pd.read_excel('finished_raw_ratio_rate.xlsx', engine = 'openpyxl')\n",
    "sales_data = pd.read_excel('Average_sales_product.xlsx', engine = 'openpyxl')\n",
    "raw_rate = pd.read_excel('raw_rate.xlsx', engine = 'openpyxl')\n",
    "scenarios = pd.read_excel('scenarios.xlsx', engine = 'openpyxl')"
   ]
  },
  {
   "cell_type": "code",
   "execution_count": 7,
   "id": "0683c131",
   "metadata": {},
   "outputs": [
    {
     "name": "stdout",
     "output_type": "stream",
     "text": [
      "Index(['Unnamed: 0', 'goods', 'raw', 'xqty/unit', 'xrate'], dtype='object')\n",
      "Index(['Unnamed: 0', 'xitem', 'xdesc', 'xqty', 'xval', 'xlineamt'], dtype='object')\n",
      "Index(['Unnamed: 0', 'raw', 'xrate'], dtype='object')\n"
     ]
    }
   ],
   "source": [
    "print(finished_raw_data.columns)\n",
    "print(sales_data.columns)\n",
    "print(raw_rate.columns)"
   ]
  },
  {
   "cell_type": "code",
   "execution_count": 4,
   "id": "f536600d",
   "metadata": {},
   "outputs": [],
   "source": [
    "# define data\n",
    "products = sales_data['xitem'].unique()\n",
    "demand = dict(zip(sales_data['xitem'], sales_data['xqty']))\n",
    "\n",
    "# load raw materials relations \n",
    "raw_materials = finished_raw_data['raw'].unique()\n",
    "raw_material_cost = dict(zip(raw_rate['raw'], raw_rate['xrate']))"
   ]
  },
  {
   "cell_type": "code",
   "execution_count": 5,
   "id": "1e4530b4",
   "metadata": {},
   "outputs": [],
   "source": [
    "material_requirements = finished_raw_data.groupby('goods').apply(\n",
    "    lambda x: dict(zip(x['raw'], x['xqty/unit']))\n",
    ").to_dict()"
   ]
  },
  {
   "cell_type": "code",
   "execution_count": null,
   "id": "34491617",
   "metadata": {},
   "outputs": [],
   "source": []
  },
  {
   "cell_type": "code",
   "execution_count": 15,
   "id": "98071687",
   "metadata": {},
   "outputs": [],
   "source": [
    "# Group the data by 'Scenario' and convert to dictionary format\n",
    "demand_scenarios = {}\n",
    "for scenario, group in scenarios.groupby('Scenario'):\n",
    "    demand_scenarios[f'Scenario{scenario}'] = {\n",
    "        'probability': group['Probability'].mean(), \n",
    "        'demand': dict(zip(group['Product_Code'], group['Demand/month'] * group['Probability']))\n",
    "    }"
   ]
  },
  {
   "cell_type": "code",
   "execution_count": null,
   "id": "705a86a8",
   "metadata": {},
   "outputs": [],
   "source": [
    "# problem setup\n",
    "model = pulp.LpProblem(\"Stochastic_Raw_Material_Procurement\", pulp.LpMinimize)\n",
    "raw_material_vars = {material: pulp.LpVariable(f\"quantity_{material}\", lowBound=0) for material in raw_materials}"
   ]
  },
  {
   "cell_type": "code",
   "execution_count": null,
   "id": "a60d1e11",
   "metadata": {},
   "outputs": [],
   "source": []
  },
  {
   "cell_type": "code",
   "execution_count": 20,
   "id": "fad7eb5c",
   "metadata": {},
   "outputs": [
    {
     "name": "stdout",
     "output_type": "stream",
     "text": [
      "Optimal quantities of raw materials to purchase:\n",
      "RZ000193: 528.67\n",
      "RZ000002: 101.1727\n",
      "RZ000004: 10.224278\n",
      "RZ000309: 0.0\n",
      "RZ000230: 29.313899\n",
      "RZ000235: 687.39244\n",
      "RZ000177: 299.67\n",
      "RZ000228: 8.0278092\n",
      "RZ000176: 299.67\n",
      "RZ000304: 1256.7591\n",
      "RZ000410: 4666.3799\n",
      "RZ000030: 11134.043\n",
      "RZ000282: 225.8697\n",
      "RZ000273: 244.1401\n",
      "RZ000199: 760.33465\n",
      "RZ000006: 69.113557\n",
      "RZ000157: 5139.0\n",
      "RZ000001: 37.755082\n",
      "RZ000411: 3959.2202\n",
      "RZ000315: 5547.35\n",
      "RZ000178: 109.0\n",
      "RZ000160: 4.8316015\n",
      "RZ000005: 0.0\n",
      "RZ000007: 35.152076\n",
      "RZ000181: 2002.0\n",
      "RZ000180: 2002.0\n",
      "RZ000159: 3.2560464\n",
      "RZ000158: 5.0647193\n",
      "RZ000003: 41.30668\n",
      "RZ000303: 1363.2069\n",
      "RZ000365: 0.0\n",
      "RZ000355: 56.33\n",
      "RZ000275: 0.0\n",
      "RZ000274: 0.0\n",
      "RZ000277: 1243.67\n",
      "RZ000276: 1243.67\n",
      "RZ000310: 5.2305113\n",
      "RZ000270: 0.0\n",
      "RZ000279: 111.0\n",
      "RZ000278: 111.0\n",
      "RZ000009: 0.0\n",
      "RZ000319: 1969.34\n",
      "RZ000311: 4.3245305\n",
      "RZ000470: 1892.67\n",
      "RZ000453: 25.510243\n",
      "RZ000254: 0.0\n",
      "RZ000012: 4.6023437\n",
      "RZ000320: 1969.34\n",
      "RZ000413: 0.0\n",
      "RZ000326: 122.33\n",
      "RZ000454: 0.0\n",
      "RZ000223: 33.975843\n",
      "RZ000312: 122.33\n",
      "RZ000021: 5.3234165\n",
      "RZ000383: 165.33\n",
      "RZ000172: 62.0\n",
      "RZ000138: 23.4\n",
      "RZ000332: 1965.6863\n",
      "RZ000367: 136.0\n",
      "RZ000418: 73.010709\n",
      "RZ000368: 136.0\n",
      "RZ000173: 62.0\n",
      "RZ000364: 0.0\n",
      "RZ000409: 1901.7722\n",
      "RZ000469: 37.44975\n",
      "RZ000351: 499.33\n",
      "RZ000352: 499.33\n",
      "RZ000345: 84.67\n",
      "RZ000346: 84.67\n",
      "RZ000343: 840.16\n",
      "RZ000344: 840.16\n",
      "RZ000468: 73.0\n",
      "RZ000348: 298.33\n",
      "RZ000347: 298.33\n",
      "RZ000439: 0.0\n",
      "RZ000435: 0.0\n",
      "RZ000434: 22.17\n",
      "RZ000349: 0.0\n",
      "RZ000350: 0.0\n",
      "RZ000437: 0.0\n",
      "RZ000405: 0.0\n",
      "RZ000317: 0.0\n",
      "RZ000316: 174.67\n",
      "RZ000241: 159.34474\n",
      "RZ000148: 10.392048\n",
      "RZ000474: 41.568192\n",
      "RZ000431: 0.0\n",
      "RZ000428: 0.0\n",
      "RZ000427: 0.0\n",
      "RZ000426: 0.0\n",
      "RZ000425: 0.0\n",
      "RZ000424: 0.0\n",
      "RZ000421: 0.0\n",
      "RZ000420: 0.0\n",
      "RZ000419: 10.392048\n",
      "RZ000422: 0.0\n",
      "RZ000010: 24.248112\n",
      "RZ000305: 0.0\n",
      "RZ000440: 177.01\n",
      "RZ000448: 0.0\n",
      "RZ000443: 46.67\n",
      "RZ000442: 56.67\n",
      "RZ000445: 0.0\n",
      "RZ000446: 0.0\n",
      "RZ000444: 0.0\n",
      "RZ000447: 0.0\n",
      "RZ000415: 0.0\n",
      "RZ000451: 119.67\n",
      "RZ000452: 119.67\n",
      "RZ000455: 223.33\n",
      "RZ000456: 223.33\n",
      "RZ000457: 0.0\n",
      "RZ000459: 256.33\n",
      "RZ000458: 33.0\n",
      "RZ000473: 7.3822702\n",
      "RZ000325: 33.0369\n",
      "RZ000479: 0.0\n",
      "RZ000481: 0.0\n",
      "RZ000476: 83.67\n",
      "RZ000478: 83.67\n",
      "RZ000482: 0.0\n"
     ]
    }
   ],
   "source": [
    "\n",
    "# objective minimize total raw materials purchased \n",
    "model += pulp.lpSum(raw_material_vars[material] for material in raw_materials), \"Total_Raw_Material\"\n",
    "\n",
    "\n",
    "for material in raw_materials:\n",
    "    model += pulp.lpSum(\n",
    "        material_requirements[product].get(material, 0.0) * demand[product] \n",
    "        for product in products if product in material_requirements\n",
    "    ) == raw_material_vars[material], f\"Material_{material}_constraint\"\n",
    "\n",
    "total_budget = sales_data['xval'].sum() * 0.9\n",
    "model += pulp.lpSum(raw_material_vars[material] * raw_material_cost[material] for material in raw_materials) <= total_budget, \"Budget_Constraint\"\n",
    "\n",
    "model.solve()\n",
    "# add known MOQ and unknowns should be 1 for budget constraints \n",
    "\n",
    "print(\"Optimal quantities of raw materials to purchase:\")\n",
    "for material in raw_materials:\n",
    "    print(f\"{material}: {raw_material_vars[material].varValue}\")"
   ]
  },
  {
   "cell_type": "code",
   "execution_count": 9,
   "id": "78eb9e01",
   "metadata": {},
   "outputs": [],
   "source": [
    "results = {material: raw_material_vars[material].varValue for material in raw_materials}\n",
    "results_df = pd.DataFrame(list(results.items()), columns=['Raw Material', 'Optimal Quantity'])\n",
    "results_df.to_excel(\"raw_material_optimization_with_budget.xlsx\", index=False)"
   ]
  },
  {
   "cell_type": "code",
   "execution_count": null,
   "id": "c43b6c0c",
   "metadata": {},
   "outputs": [],
   "source": []
  },
  {
   "cell_type": "code",
   "execution_count": null,
   "id": "98028345",
   "metadata": {},
   "outputs": [],
   "source": []
  },
  {
   "cell_type": "code",
   "execution_count": null,
   "id": "064b024c",
   "metadata": {},
   "outputs": [],
   "source": []
  },
  {
   "cell_type": "code",
   "execution_count": null,
   "id": "35ded674",
   "metadata": {},
   "outputs": [],
   "source": []
  },
  {
   "cell_type": "code",
   "execution_count": null,
   "id": "0335ce5e",
   "metadata": {},
   "outputs": [],
   "source": []
  },
  {
   "cell_type": "code",
   "execution_count": null,
   "id": "5ecab0ac",
   "metadata": {},
   "outputs": [],
   "source": []
  }
 ],
 "metadata": {
  "kernelspec": {
   "display_name": "Python 3",
   "language": "python",
   "name": "python3"
  },
  "language_info": {
   "codemirror_mode": {
    "name": "ipython",
    "version": 3
   },
   "file_extension": ".py",
   "mimetype": "text/x-python",
   "name": "python",
   "nbconvert_exporter": "python",
   "pygments_lexer": "ipython3",
   "version": "3.6.9"
  }
 },
 "nbformat": 4,
 "nbformat_minor": 5
}
