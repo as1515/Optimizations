{
 "cells": [
  {
   "cell_type": "code",
   "execution_count": 2,
   "id": "91675320",
   "metadata": {},
   "outputs": [],
   "source": [
    "import pandas as pd\n",
    "import numpy as np\n",
    "import pulp"
   ]
  },
  {
   "cell_type": "code",
   "execution_count": 4,
   "id": "4bd787f3",
   "metadata": {},
   "outputs": [],
   "source": [
    "finished_raw_data = pd.read_excel('finished_raw_ratio_rate.xlsx', engine = 'openpyxl')\n",
    "sales_data = pd.read_excel('Average_sales_product.xlsx', engine = 'openpyxl')\n",
    "raw_rate = pd.read_excel('raw_rate.xlsx', engine = 'openpyxl')"
   ]
  },
  {
   "cell_type": "code",
   "execution_count": 5,
   "id": "0683c131",
   "metadata": {},
   "outputs": [
    {
     "name": "stdout",
     "output_type": "stream",
     "text": [
      "Index(['Unnamed: 0', 'goods', 'raw', 'xqty/unit', 'xrate'], dtype='object')\n",
      "Index(['Unnamed: 0', 'xitem', 'xdesc', 'xqty', 'xval', 'xlineamt'], dtype='object')\n",
      "Index(['Unnamed: 0', 'raw', 'xrate'], dtype='object')\n"
     ]
    }
   ],
   "source": [
    "print(finished_raw_data.columns)\n",
    "print(sales_data.columns)\n",
    "print(raw_rate.columns)"
   ]
  },
  {
   "cell_type": "code",
   "execution_count": 6,
   "id": "f536600d",
   "metadata": {},
   "outputs": [],
   "source": [
    "# define data\n",
    "products = sales_data['xitem'].unique()\n",
    "demand = dict(zip(sales_data['xitem'], sales_data['xqty']))\n",
    "\n",
    "# load raw materials relations \n",
    "raw_materials = finished_raw_data['raw'].unique()"
   ]
  },
  {
   "cell_type": "code",
   "execution_count": 7,
   "id": "1e4530b4",
   "metadata": {},
   "outputs": [],
   "source": [
    "material_requirements = finished_raw_data.groupby('goods').apply(\n",
    "    lambda x: dict(zip(x['raw'], x['xqty/unit']))\n",
    ").to_dict()"
   ]
  },
  {
   "cell_type": "code",
   "execution_count": 8,
   "id": "fad7eb5c",
   "metadata": {},
   "outputs": [
    {
     "name": "stdout",
     "output_type": "stream",
     "text": [
      "Optimal quantities of raw materials to purchase:\n",
      "RZ000193: 528.67\n",
      "RZ000002: 101.1727\n",
      "RZ000004: 10.224278\n",
      "RZ000309: 1.6715518\n",
      "RZ000230: 29.313899\n",
      "RZ000235: 687.39244\n",
      "RZ000177: 299.67\n",
      "RZ000228: 8.0278092\n",
      "RZ000176: 299.67\n",
      "RZ000304: 1256.7591\n",
      "RZ000410: 4666.3799\n",
      "RZ000030: 11134.043\n",
      "RZ000282: 225.8697\n",
      "RZ000273: 244.1401\n",
      "RZ000199: 760.33465\n",
      "RZ000006: 69.113557\n",
      "RZ000157: 5139.0\n",
      "RZ000001: 37.755082\n",
      "RZ000411: 3959.2202\n",
      "RZ000315: 5547.35\n",
      "RZ000178: 109.0\n",
      "RZ000160: 4.8316015\n",
      "RZ000005: 4.8374227\n",
      "RZ000007: 35.152076\n",
      "RZ000181: 2002.0\n",
      "RZ000180: 2002.0\n",
      "RZ000159: 3.2560464\n",
      "RZ000158: 5.0647193\n",
      "RZ000003: 41.30668\n",
      "RZ000303: 1363.2069\n",
      "RZ000365: 5.33\n",
      "RZ000355: 56.33\n",
      "RZ000275: 36.0\n",
      "RZ000274: 36.0\n",
      "RZ000277: 1243.67\n",
      "RZ000276: 1243.67\n",
      "RZ000310: 5.2305113\n",
      "RZ000270: 0.18039437\n",
      "RZ000279: 111.0\n",
      "RZ000278: 111.0\n",
      "RZ000009: 4.384399\n",
      "RZ000319: 1969.34\n",
      "RZ000311: 4.3245305\n",
      "RZ000470: 1892.67\n",
      "RZ000453: 25.510243\n",
      "RZ000254: 2.1677656\n",
      "RZ000012: 4.6023437\n",
      "RZ000320: 1969.34\n",
      "RZ000413: 122.33\n",
      "RZ000326: 122.33\n",
      "RZ000454: 3.4502676\n",
      "RZ000223: 33.975843\n",
      "RZ000312: 122.33\n",
      "RZ000021: 5.3234165\n",
      "RZ000383: 165.33\n",
      "RZ000172: 62.0\n",
      "RZ000138: 23.4\n",
      "RZ000332: 1965.6863\n",
      "RZ000367: 136.0\n",
      "RZ000418: 73.010709\n",
      "RZ000368: 136.0\n",
      "RZ000173: 62.0\n",
      "RZ000364: 8.0\n",
      "RZ000409: 1901.7722\n",
      "RZ000469: 37.44975\n",
      "RZ000351: 499.33\n",
      "RZ000352: 499.33\n",
      "RZ000345: 84.67\n",
      "RZ000346: 84.67\n",
      "RZ000343: 840.16\n",
      "RZ000344: 840.16\n",
      "RZ000468: 73.0\n",
      "RZ000348: 298.33\n",
      "RZ000347: 298.33\n",
      "RZ000439: 1.756043\n",
      "RZ000435: 7.58802\n",
      "RZ000434: 22.17\n",
      "RZ000349: 4.0\n",
      "RZ000350: 4.0\n",
      "RZ000437: 8.6620404\n",
      "RZ000405: 43.0\n",
      "RZ000317: 7.283739\n",
      "RZ000316: 174.67\n",
      "RZ000241: 159.34474\n",
      "RZ000148: 10.392048\n",
      "RZ000474: 41.568192\n",
      "RZ000431: 3.752684\n",
      "RZ000428: 1.0392048\n",
      "RZ000427: 1.0392048\n",
      "RZ000426: 1.0392048\n",
      "RZ000425: 1.732008\n",
      "RZ000424: 1.0392048\n",
      "RZ000421: 3.1176144\n",
      "RZ000420: 6.928032\n",
      "RZ000419: 10.392048\n",
      "RZ000422: 1.732008\n",
      "RZ000010: 24.248112\n",
      "RZ000305: 1.6758912\n",
      "RZ000440: 177.01\n",
      "RZ000448: 14.69183\n",
      "RZ000443: 46.67\n",
      "RZ000442: 56.67\n",
      "RZ000445: 21.0\n",
      "RZ000446: 25.67\n",
      "RZ000444: 15.33\n",
      "RZ000447: 11.67\n",
      "RZ000415: 0.01398\n",
      "RZ000451: 119.67\n",
      "RZ000452: 119.67\n",
      "RZ000455: 223.33\n",
      "RZ000456: 223.33\n",
      "RZ000457: 0.98674605\n",
      "RZ000459: 256.33\n",
      "RZ000458: 33.0\n",
      "RZ000473: 7.3822702\n",
      "RZ000325: 33.0369\n",
      "RZ000479: 14.67\n",
      "RZ000481: 0.12485513\n",
      "RZ000476: 83.67\n",
      "RZ000478: 83.67\n",
      "RZ000482: 0.041835\n"
     ]
    }
   ],
   "source": [
    "model = pulp.LpProblem(\"Raw_Material_Procurement\", pulp.LpMinimize)\n",
    "raw_material_vars = {material: pulp.LpVariable(f\"quantity_{material}\", lowBound=0) for material in raw_materials}\n",
    "\n",
    "# objective minimize total raw materials purchased \n",
    "model += pulp.lpSum(raw_material_vars[material] for material in raw_materials), \"Total_Raw_Material\"\n",
    "\n",
    "\n",
    "for material in raw_materials:\n",
    "    model += pulp.lpSum(\n",
    "        material_requirements[product].get(material, 0.0) * demand[product] \n",
    "        for product in products if product in material_requirements\n",
    "    ) == raw_material_vars[material], f\"Material_{material}_constraint\"\n",
    "\n",
    "\n",
    "model.solve()\n",
    "\n",
    "\n",
    "print(\"Optimal quantities of raw materials to purchase:\")\n",
    "for material in raw_materials:\n",
    "    print(f\"{material}: {raw_material_vars[material].varValue}\")"
   ]
  },
  {
   "cell_type": "code",
   "execution_count": 9,
   "id": "78eb9e01",
   "metadata": {},
   "outputs": [],
   "source": [
    "results = {material: raw_material_vars[material].varValue for material in raw_materials}\n",
    "results_df = pd.DataFrame(list(results.items()), columns=['Raw Material', 'Optimal Quantity'])"
   ]
  },
  {
   "cell_type": "code",
   "execution_count": 19,
   "id": "c43b6c0c",
   "metadata": {},
   "outputs": [
    {
     "data": {
      "text/html": [
       "<div>\n",
       "<style scoped>\n",
       "    .dataframe tbody tr th:only-of-type {\n",
       "        vertical-align: middle;\n",
       "    }\n",
       "\n",
       "    .dataframe tbody tr th {\n",
       "        vertical-align: top;\n",
       "    }\n",
       "\n",
       "    .dataframe thead th {\n",
       "        text-align: right;\n",
       "    }\n",
       "</style>\n",
       "<table border=\"1\" class=\"dataframe\">\n",
       "  <thead>\n",
       "    <tr style=\"text-align: right;\">\n",
       "      <th></th>\n",
       "      <th>Raw Material</th>\n",
       "      <th>Optimal Quantity</th>\n",
       "    </tr>\n",
       "  </thead>\n",
       "  <tbody>\n",
       "    <tr>\n",
       "      <th>0</th>\n",
       "      <td>RZ000193</td>\n",
       "      <td>528.670000</td>\n",
       "    </tr>\n",
       "    <tr>\n",
       "      <th>1</th>\n",
       "      <td>RZ000002</td>\n",
       "      <td>101.172700</td>\n",
       "    </tr>\n",
       "    <tr>\n",
       "      <th>2</th>\n",
       "      <td>RZ000004</td>\n",
       "      <td>10.224278</td>\n",
       "    </tr>\n",
       "    <tr>\n",
       "      <th>3</th>\n",
       "      <td>RZ000309</td>\n",
       "      <td>1.671552</td>\n",
       "    </tr>\n",
       "    <tr>\n",
       "      <th>4</th>\n",
       "      <td>RZ000230</td>\n",
       "      <td>29.313899</td>\n",
       "    </tr>\n",
       "    <tr>\n",
       "      <th>...</th>\n",
       "      <td>...</td>\n",
       "      <td>...</td>\n",
       "    </tr>\n",
       "    <tr>\n",
       "      <th>116</th>\n",
       "      <td>RZ000479</td>\n",
       "      <td>14.670000</td>\n",
       "    </tr>\n",
       "    <tr>\n",
       "      <th>117</th>\n",
       "      <td>RZ000481</td>\n",
       "      <td>0.124855</td>\n",
       "    </tr>\n",
       "    <tr>\n",
       "      <th>118</th>\n",
       "      <td>RZ000476</td>\n",
       "      <td>83.670000</td>\n",
       "    </tr>\n",
       "    <tr>\n",
       "      <th>119</th>\n",
       "      <td>RZ000478</td>\n",
       "      <td>83.670000</td>\n",
       "    </tr>\n",
       "    <tr>\n",
       "      <th>120</th>\n",
       "      <td>RZ000482</td>\n",
       "      <td>0.041835</td>\n",
       "    </tr>\n",
       "  </tbody>\n",
       "</table>\n",
       "<p>121 rows × 2 columns</p>\n",
       "</div>"
      ],
      "text/plain": [
       "    Raw Material  Optimal Quantity\n",
       "0       RZ000193        528.670000\n",
       "1       RZ000002        101.172700\n",
       "2       RZ000004         10.224278\n",
       "3       RZ000309          1.671552\n",
       "4       RZ000230         29.313899\n",
       "..           ...               ...\n",
       "116     RZ000479         14.670000\n",
       "117     RZ000481          0.124855\n",
       "118     RZ000476         83.670000\n",
       "119     RZ000478         83.670000\n",
       "120     RZ000482          0.041835\n",
       "\n",
       "[121 rows x 2 columns]"
      ]
     },
     "execution_count": 19,
     "metadata": {},
     "output_type": "execute_result"
    }
   ],
   "source": [
    "results_df"
   ]
  },
  {
   "cell_type": "code",
   "execution_count": 14,
   "id": "98028345",
   "metadata": {},
   "outputs": [],
   "source": [
    "test = finished_raw_data[finished_raw_data['raw']=='RZ000193']"
   ]
  },
  {
   "cell_type": "code",
   "execution_count": 16,
   "id": "064b024c",
   "metadata": {},
   "outputs": [
    {
     "data": {
      "text/plain": [
       "528.6700000000001"
      ]
     },
     "execution_count": 16,
     "metadata": {},
     "output_type": "execute_result"
    }
   ],
   "source": [
    "sales_data[sales_data['xitem'].isin(test['goods'])]['xqty'].sum()"
   ]
  },
  {
   "cell_type": "code",
   "execution_count": null,
   "id": "35ded674",
   "metadata": {},
   "outputs": [],
   "source": []
  }
 ],
 "metadata": {
  "kernelspec": {
   "display_name": "Python 3",
   "language": "python",
   "name": "python3"
  },
  "language_info": {
   "codemirror_mode": {
    "name": "ipython",
    "version": 3
   },
   "file_extension": ".py",
   "mimetype": "text/x-python",
   "name": "python",
   "nbconvert_exporter": "python",
   "pygments_lexer": "ipython3",
   "version": "3.6.9"
  }
 },
 "nbformat": 4,
 "nbformat_minor": 5
}
