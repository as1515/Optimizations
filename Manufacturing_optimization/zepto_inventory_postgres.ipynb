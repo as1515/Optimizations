{
 "cells": [
  {
   "cell_type": "code",
   "execution_count": 1,
   "id": "5a97aaf8",
   "metadata": {},
   "outputs": [],
   "source": [
    "import pandas as pd\n",
    "import numpy as np\n",
    "import psycopg2\n",
    "from sqlalchemy import create_engine\n",
    "from datetime import datetime, timedelta"
   ]
  },
  {
   "cell_type": "code",
   "execution_count": 2,
   "id": "39357e36",
   "metadata": {},
   "outputs": [],
   "source": [
    "days = 100 # to adjust for backup data loss or else 90\n",
    "past_date = datetime.now() - timedelta(days=days)\n",
    "pdate = past_date.strftime('%Y-%m-%d')\n",
    "pdatetime = datetime.strptime(pdate, '%Y-%m-%d').strftime('%Y-%m-%d %H:%M:%S')\n",
    "business = 100005"
   ]
  },
  {
   "cell_type": "code",
   "execution_count": 3,
   "id": "4f8edae3",
   "metadata": {},
   "outputs": [],
   "source": [
    "db_config = {'user': 'XXXXXX','password': 'XXXXXX','host': 'XXXXXX','port': '5432', 'database': 'XXXXXX'}\n",
    "engine = create_engine(f\"postgresql+psycopg2://{db_config['user']}:{db_config['password']}@{db_config['host']}:{db_config['port']}/{db_config['database']}\")"
   ]
  },
  {
   "cell_type": "code",
   "execution_count": 4,
   "id": "10f90af1",
   "metadata": {},
   "outputs": [],
   "source": [
    "query_caitem = f\"\"\"\n",
    "        SELECT caitem.xitem, caitem.xdesc\n",
    "        FROM caitem\n",
    "        WHERE caitem.zid = %(business)s\n",
    "    \"\"\"\n",
    "params_caitem = {'business': business}\n",
    "\n",
    "query_imtrn = f\"\"\"\n",
    "        SELECT imtrn.xitem,imtrn.xyear, imtrn.xper, imtrn.xdate,imtrn.xqty, imtrn.xval, imtrn.xdocnum\n",
    "        FROM imtrn \n",
    "        WHERE imtrn.zid = %(business)s\n",
    "        AND imtrn.xdate >= %(date)s\n",
    "        AND imtrn.xdocnum LIKE %(docnum)s\n",
    "    \"\"\"\n",
    "params_imtrn = {'business': business, 'date': pdate, 'docnum':'DO--%'}\n",
    "caitem_data = pd.read_sql(query_caitem, con=engine, params=params_caitem)\n",
    "imtrn_data = pd.read_sql(query_imtrn, con=engine, params=params_imtrn)"
   ]
  },
  {
   "cell_type": "code",
   "execution_count": 5,
   "id": "e923f876",
   "metadata": {},
   "outputs": [],
   "source": [
    "query_opddt = f\"\"\"\n",
    "        SELECT opddt.ztime, opddt.xitem, opddt.xordernum, opddt.xdornum\n",
    "        FROM opddt\n",
    "        WHERE opddt.zid = %(business)s\n",
    "        AND opddt.ztime >= %(datetime)s\n",
    "    \"\"\"\n",
    "params_opddt = {'business': business, 'datetime': pdatetime}\n",
    "\n",
    "query_opodt = f\"\"\"\n",
    "        SELECT opodt.xitem, opodt.xlineamt, opodt.xordernum, opord.xdate\n",
    "        FROM opodt\n",
    "        JOIN opord\n",
    "        ON opodt.xordernum = opord.xordernum\n",
    "        WHERE opodt.zid = %(business)s\n",
    "        AND opord.zid = %(business)s\n",
    "        AND opord.xdate >= %(date)s\n",
    "    \"\"\"\n",
    "params_opodt = {'business': business, 'date': pdate}\n",
    "\n",
    "opddt_data = pd.read_sql(query_opddt, con=engine, params=params_opddt)\n",
    "opodt_data = pd.read_sql(query_opodt, con=engine, params=params_opodt)"
   ]
  },
  {
   "cell_type": "code",
   "execution_count": 6,
   "id": "fde0b774",
   "metadata": {},
   "outputs": [],
   "source": [
    "imtrn_data = imtrn_data.groupby(['xitem', 'xdocnum']).agg({\n",
    "    'xqty': 'sum',      \n",
    "    'xval': 'sum',       \n",
    "    'xyear': 'first',    \n",
    "    'xdate': 'first',    \n",
    "    'xper': 'first'      \n",
    "}).reset_index()\n",
    "\n",
    "opodt_data_aggregated = opodt_data.groupby(['xitem', 'xordernum']).agg({\n",
    "    'xlineamt': 'sum',\n",
    "    'xdate': 'first'\n",
    "}).reset_index()"
   ]
  },
  {
   "cell_type": "code",
   "execution_count": 7,
   "id": "87b00835",
   "metadata": {},
   "outputs": [],
   "source": [
    "opddt_data = opddt_data.drop(columns=['ztime'])\n",
    "opddt_data = opddt_data.drop_duplicates(subset=['xitem', 'xordernum', 'xdornum'])"
   ]
  },
  {
   "cell_type": "code",
   "execution_count": 8,
   "id": "654c020c",
   "metadata": {},
   "outputs": [],
   "source": [
    "# merge all the data and aggregate duplicates (discounts and bundle offers)\n",
    "merged_1 = pd.merge(imtrn_data, opddt_data, left_on=['xitem','xdocnum'], right_on=['xitem','xdornum'], how='left')\n",
    "merged_2 = pd.merge(merged_1, opodt_data, left_on=['xitem','xordernum'], right_on=['xitem','xordernum'], how='left')"
   ]
  },
  {
   "cell_type": "code",
   "execution_count": 9,
   "id": "b303986d",
   "metadata": {},
   "outputs": [],
   "source": [
    "merged_2 = merged_2.groupby(['xitem', 'xdocnum','xordernum','xdornum']).agg({\n",
    "    'xqty': 'first',      \n",
    "    'xval': 'first',       \n",
    "    'xyear': 'first',\n",
    "    'xdate_x': 'first',\n",
    "    'xper': 'first',\n",
    "    'xlineamt': 'sum',    \n",
    "    'xdate_y': 'first'      \n",
    "}).reset_index()"
   ]
  },
  {
   "cell_type": "code",
   "execution_count": 10,
   "id": "ac3e83ac",
   "metadata": {},
   "outputs": [],
   "source": [
    "final_merged = pd.merge(merged_2, caitem_data, left_on='xitem', right_on='xitem', how='left')\n",
    "sales_data = final_merged[['xitem', 'xdesc', 'xdocnum','xyear','xper', 'xqty', 'xval', 'xlineamt']]"
   ]
  },
  {
   "cell_type": "code",
   "execution_count": 11,
   "id": "9148529a",
   "metadata": {},
   "outputs": [],
   "source": [
    "sales_data = sales_data[sales_data['xlineamt'] > 0]"
   ]
  },
  {
   "cell_type": "code",
   "execution_count": 12,
   "id": "75575211",
   "metadata": {},
   "outputs": [],
   "source": [
    "# monthly sales per product\n",
    "sales_data_m = sales_data.groupby(['xitem', 'xdesc','xyear','xper',]).agg({\n",
    "    'xqty': 'sum',      \n",
    "    'xval': 'sum',       \n",
    "    'xlineamt': 'sum'   \n",
    "}).reset_index()"
   ]
  },
  {
   "cell_type": "code",
   "execution_count": 13,
   "id": "46eb1f53",
   "metadata": {},
   "outputs": [],
   "source": [
    "# Average Sales per month for each product\n",
    "sales_data['Profit'] = sales_data['xlineamt']"
   ]
  },
  {
   "cell_type": "code",
   "execution_count": 14,
   "id": "b21efbde",
   "metadata": {},
   "outputs": [],
   "source": [
    "query_moord = f\"\"\"\n",
    "        SELECT moord.xdatemo, moord.xmoord, moord.xitem as goods, caitem.xdesc, moord.xqtyprd\n",
    "        FROM moord\n",
    "        JOIN caitem\n",
    "        ON moord.xitem = caitem.xitem\n",
    "        WHERE moord.zid = %(business)s\n",
    "        AND caitem.zid = %(business)s\n",
    "        AND moord.xdatemo >= %(date)s\n",
    "    \"\"\"\n",
    "params_moord = {'business': business, 'date': pdate}\n",
    "moord_data = pd.read_sql(query_moord, con=engine, params=params_moord)"
   ]
  },
  {
   "cell_type": "code",
   "execution_count": 15,
   "id": "91f61cbd",
   "metadata": {},
   "outputs": [],
   "source": [
    "query_moodt = f\"\"\"\n",
    "        SELECT  moodt.ztime, moodt.xmoord, moodt.xitem as raw, caitem.xdesc, moodt.xqtyord, moodt.xrate\n",
    "        FROM moodt \n",
    "        JOIN caitem\n",
    "        ON moodt.xitem = caitem.xitem\n",
    "        WHERE moodt.zid = %(business)s\n",
    "        AND caitem.zid = %(business)s\n",
    "        AND moodt.ztime >= %(datetime)s\n",
    "    \"\"\"\n",
    "params_moodt = {'business': business, 'datetime': pdatetime}\n",
    "moodt_data = pd.read_sql(query_moodt, con=engine, params=params_moodt)"
   ]
  },
  {
   "cell_type": "code",
   "execution_count": 16,
   "id": "e13803f0",
   "metadata": {},
   "outputs": [
    {
     "data": {
      "text/html": [
       "<div>\n",
       "<style scoped>\n",
       "    .dataframe tbody tr th:only-of-type {\n",
       "        vertical-align: middle;\n",
       "    }\n",
       "\n",
       "    .dataframe tbody tr th {\n",
       "        vertical-align: top;\n",
       "    }\n",
       "\n",
       "    .dataframe thead th {\n",
       "        text-align: right;\n",
       "    }\n",
       "</style>\n",
       "<table border=\"1\" class=\"dataframe\">\n",
       "  <thead>\n",
       "    <tr style=\"text-align: right;\">\n",
       "      <th></th>\n",
       "      <th>ztime</th>\n",
       "      <th>xmoord</th>\n",
       "      <th>raw</th>\n",
       "      <th>xdesc</th>\n",
       "      <th>xqtyord</th>\n",
       "      <th>xrate</th>\n",
       "    </tr>\n",
       "  </thead>\n",
       "  <tbody>\n",
       "    <tr>\n",
       "      <th>0</th>\n",
       "      <td>2024-07-02 16:56:49.884</td>\n",
       "      <td>MO--003465</td>\n",
       "      <td>RZ000273</td>\n",
       "      <td>SDCL0001</td>\n",
       "      <td>0.780</td>\n",
       "      <td>59.67</td>\n",
       "    </tr>\n",
       "    <tr>\n",
       "      <th>1</th>\n",
       "      <td>2024-07-02 16:56:49.884</td>\n",
       "      <td>MO--003465</td>\n",
       "      <td>RZ000002</td>\n",
       "      <td>IPPL4250</td>\n",
       "      <td>0.065</td>\n",
       "      <td>347.83</td>\n",
       "    </tr>\n",
       "    <tr>\n",
       "      <th>2</th>\n",
       "      <td>2024-07-02 16:56:49.931</td>\n",
       "      <td>MO--003465</td>\n",
       "      <td>RZ000409</td>\n",
       "      <td>Shrink Poly 5 Liter</td>\n",
       "      <td>13.000</td>\n",
       "      <td>2.42</td>\n",
       "    </tr>\n",
       "    <tr>\n",
       "      <th>3</th>\n",
       "      <td>2024-07-02 16:56:49.868</td>\n",
       "      <td>MO--003465</td>\n",
       "      <td>RZ000282</td>\n",
       "      <td>ASSA0001</td>\n",
       "      <td>1.950</td>\n",
       "      <td>210.16</td>\n",
       "    </tr>\n",
       "    <tr>\n",
       "      <th>4</th>\n",
       "      <td>2024-07-02 16:56:49.884</td>\n",
       "      <td>MO--003465</td>\n",
       "      <td>RZ000309</td>\n",
       "      <td>SDBZ0001</td>\n",
       "      <td>0.065</td>\n",
       "      <td>271.25</td>\n",
       "    </tr>\n",
       "    <tr>\n",
       "      <th>...</th>\n",
       "      <td>...</td>\n",
       "      <td>...</td>\n",
       "      <td>...</td>\n",
       "      <td>...</td>\n",
       "      <td>...</td>\n",
       "      <td>...</td>\n",
       "    </tr>\n",
       "    <tr>\n",
       "      <th>4217</th>\n",
       "      <td>2024-09-26 11:01:37.755</td>\n",
       "      <td>MO--003796</td>\n",
       "      <td>RZ000454</td>\n",
       "      <td>NP000010</td>\n",
       "      <td>0.055</td>\n",
       "      <td>450.01</td>\n",
       "    </tr>\n",
       "    <tr>\n",
       "      <th>4218</th>\n",
       "      <td>2024-09-26 11:01:37.737</td>\n",
       "      <td>MO--003796</td>\n",
       "      <td>RZ000273</td>\n",
       "      <td>SDCL0001</td>\n",
       "      <td>0.866</td>\n",
       "      <td>60.79</td>\n",
       "    </tr>\n",
       "    <tr>\n",
       "      <th>4219</th>\n",
       "      <td>2024-09-26 11:01:37.744</td>\n",
       "      <td>MO--003796</td>\n",
       "      <td>RZ000235</td>\n",
       "      <td>SLES0001</td>\n",
       "      <td>4.125</td>\n",
       "      <td>172.00</td>\n",
       "    </tr>\n",
       "    <tr>\n",
       "      <th>4220</th>\n",
       "      <td>2024-09-26 11:01:37.750</td>\n",
       "      <td>MO--003796</td>\n",
       "      <td>RZ000160</td>\n",
       "      <td>PRFLVD01</td>\n",
       "      <td>0.126</td>\n",
       "      <td>3993.62</td>\n",
       "    </tr>\n",
       "    <tr>\n",
       "      <th>4221</th>\n",
       "      <td>2024-09-26 11:01:37.755</td>\n",
       "      <td>MO--003796</td>\n",
       "      <td>RZ000439</td>\n",
       "      <td>ACDPNK</td>\n",
       "      <td>0.001</td>\n",
       "      <td>4.26</td>\n",
       "    </tr>\n",
       "  </tbody>\n",
       "</table>\n",
       "<p>4222 rows × 6 columns</p>\n",
       "</div>"
      ],
      "text/plain": [
       "                       ztime      xmoord       raw                xdesc  \\\n",
       "0    2024-07-02 16:56:49.884  MO--003465  RZ000273             SDCL0001   \n",
       "1    2024-07-02 16:56:49.884  MO--003465  RZ000002             IPPL4250   \n",
       "2    2024-07-02 16:56:49.931  MO--003465  RZ000409  Shrink Poly 5 Liter   \n",
       "3    2024-07-02 16:56:49.868  MO--003465  RZ000282             ASSA0001   \n",
       "4    2024-07-02 16:56:49.884  MO--003465  RZ000309             SDBZ0001   \n",
       "...                      ...         ...       ...                  ...   \n",
       "4217 2024-09-26 11:01:37.755  MO--003796  RZ000454             NP000010   \n",
       "4218 2024-09-26 11:01:37.737  MO--003796  RZ000273             SDCL0001   \n",
       "4219 2024-09-26 11:01:37.744  MO--003796  RZ000235             SLES0001   \n",
       "4220 2024-09-26 11:01:37.750  MO--003796  RZ000160             PRFLVD01   \n",
       "4221 2024-09-26 11:01:37.755  MO--003796  RZ000439               ACDPNK   \n",
       "\n",
       "      xqtyord    xrate  \n",
       "0       0.780    59.67  \n",
       "1       0.065   347.83  \n",
       "2      13.000     2.42  \n",
       "3       1.950   210.16  \n",
       "4       0.065   271.25  \n",
       "...       ...      ...  \n",
       "4217    0.055   450.01  \n",
       "4218    0.866    60.79  \n",
       "4219    4.125   172.00  \n",
       "4220    0.126  3993.62  \n",
       "4221    0.001     4.26  \n",
       "\n",
       "[4222 rows x 6 columns]"
      ]
     },
     "execution_count": 16,
     "metadata": {},
     "output_type": "execute_result"
    }
   ],
   "source": [
    "moodt_data"
   ]
  },
  {
   "cell_type": "code",
   "execution_count": 17,
   "id": "3c16750b",
   "metadata": {},
   "outputs": [
    {
     "data": {
      "text/html": [
       "<div>\n",
       "<style scoped>\n",
       "    .dataframe tbody tr th:only-of-type {\n",
       "        vertical-align: middle;\n",
       "    }\n",
       "\n",
       "    .dataframe tbody tr th {\n",
       "        vertical-align: top;\n",
       "    }\n",
       "\n",
       "    .dataframe thead th {\n",
       "        text-align: right;\n",
       "    }\n",
       "</style>\n",
       "<table border=\"1\" class=\"dataframe\">\n",
       "  <thead>\n",
       "    <tr style=\"text-align: right;\">\n",
       "      <th></th>\n",
       "      <th>xdatemo</th>\n",
       "      <th>xmoord</th>\n",
       "      <th>goods</th>\n",
       "      <th>xdesc</th>\n",
       "      <th>xqtyprd</th>\n",
       "    </tr>\n",
       "  </thead>\n",
       "  <tbody>\n",
       "    <tr>\n",
       "      <th>0</th>\n",
       "      <td>2024-07-02</td>\n",
       "      <td>MO--003470</td>\n",
       "      <td>FZ000080</td>\n",
       "      <td>Liquid Hand soap 5 Litre (Super)</td>\n",
       "      <td>30.0</td>\n",
       "    </tr>\n",
       "    <tr>\n",
       "      <th>1</th>\n",
       "      <td>2024-07-02</td>\n",
       "      <td>MO--003465</td>\n",
       "      <td>FZ000190</td>\n",
       "      <td>Floor Cleaner (Lemon) 5 Litre (Super)</td>\n",
       "      <td>13.0</td>\n",
       "    </tr>\n",
       "    <tr>\n",
       "      <th>2</th>\n",
       "      <td>2024-07-02</td>\n",
       "      <td>MO--003463</td>\n",
       "      <td>FZ000185</td>\n",
       "      <td>White Phenyle 3 Litre</td>\n",
       "      <td>40.0</td>\n",
       "    </tr>\n",
       "    <tr>\n",
       "      <th>3</th>\n",
       "      <td>2024-07-02</td>\n",
       "      <td>MO--003467</td>\n",
       "      <td>FZ000041</td>\n",
       "      <td>Liquid Hand soap 5 Litre (Supreme)</td>\n",
       "      <td>14.0</td>\n",
       "    </tr>\n",
       "    <tr>\n",
       "      <th>4</th>\n",
       "      <td>2024-07-02</td>\n",
       "      <td>MO--003466</td>\n",
       "      <td>FZ000191</td>\n",
       "      <td>Floor Cleaner (Lavender) 5 Litre (Super)</td>\n",
       "      <td>12.0</td>\n",
       "    </tr>\n",
       "    <tr>\n",
       "      <th>...</th>\n",
       "      <td>...</td>\n",
       "      <td>...</td>\n",
       "      <td>...</td>\n",
       "      <td>...</td>\n",
       "      <td>...</td>\n",
       "    </tr>\n",
       "    <tr>\n",
       "      <th>327</th>\n",
       "      <td>2024-09-26</td>\n",
       "      <td>MO--003793</td>\n",
       "      <td>FZ000005</td>\n",
       "      <td>Kitchen Degreaser New</td>\n",
       "      <td>300.0</td>\n",
       "    </tr>\n",
       "    <tr>\n",
       "      <th>328</th>\n",
       "      <td>2024-09-26</td>\n",
       "      <td>MO--003792</td>\n",
       "      <td>FZ000028</td>\n",
       "      <td>Furniture Cleaner</td>\n",
       "      <td>360.0</td>\n",
       "    </tr>\n",
       "    <tr>\n",
       "      <th>329</th>\n",
       "      <td>2024-09-26</td>\n",
       "      <td>MO--003795</td>\n",
       "      <td>FZ000037</td>\n",
       "      <td>Dish washing  liquid 5 Litre</td>\n",
       "      <td>70.0</td>\n",
       "    </tr>\n",
       "    <tr>\n",
       "      <th>330</th>\n",
       "      <td>2024-09-26</td>\n",
       "      <td>MO--003794</td>\n",
       "      <td>FZ000081</td>\n",
       "      <td>Liquid Hand soap 5 Litre (Basic)</td>\n",
       "      <td>70.0</td>\n",
       "    </tr>\n",
       "    <tr>\n",
       "      <th>331</th>\n",
       "      <td>2024-09-26</td>\n",
       "      <td>MO--003796</td>\n",
       "      <td>FZ000205</td>\n",
       "      <td>Pink Original Hand Soap 500ml (Supreme)</td>\n",
       "      <td>55.0</td>\n",
       "    </tr>\n",
       "  </tbody>\n",
       "</table>\n",
       "<p>332 rows × 5 columns</p>\n",
       "</div>"
      ],
      "text/plain": [
       "        xdatemo      xmoord     goods  \\\n",
       "0    2024-07-02  MO--003470  FZ000080   \n",
       "1    2024-07-02  MO--003465  FZ000190   \n",
       "2    2024-07-02  MO--003463  FZ000185   \n",
       "3    2024-07-02  MO--003467  FZ000041   \n",
       "4    2024-07-02  MO--003466  FZ000191   \n",
       "..          ...         ...       ...   \n",
       "327  2024-09-26  MO--003793  FZ000005   \n",
       "328  2024-09-26  MO--003792  FZ000028   \n",
       "329  2024-09-26  MO--003795  FZ000037   \n",
       "330  2024-09-26  MO--003794  FZ000081   \n",
       "331  2024-09-26  MO--003796  FZ000205   \n",
       "\n",
       "                                        xdesc  xqtyprd  \n",
       "0            Liquid Hand soap 5 Litre (Super)     30.0  \n",
       "1       Floor Cleaner (Lemon) 5 Litre (Super)     13.0  \n",
       "2                       White Phenyle 3 Litre     40.0  \n",
       "3          Liquid Hand soap 5 Litre (Supreme)     14.0  \n",
       "4    Floor Cleaner (Lavender) 5 Litre (Super)     12.0  \n",
       "..                                        ...      ...  \n",
       "327                     Kitchen Degreaser New    300.0  \n",
       "328                         Furniture Cleaner    360.0  \n",
       "329              Dish washing  liquid 5 Litre     70.0  \n",
       "330          Liquid Hand soap 5 Litre (Basic)     70.0  \n",
       "331   Pink Original Hand Soap 500ml (Supreme)     55.0  \n",
       "\n",
       "[332 rows x 5 columns]"
      ]
     },
     "execution_count": 17,
     "metadata": {},
     "output_type": "execute_result"
    }
   ],
   "source": [
    "moord_data"
   ]
  },
  {
   "cell_type": "code",
   "execution_count": 18,
   "id": "8a5a2dec",
   "metadata": {},
   "outputs": [],
   "source": [
    "merged_mo = pd.merge(moodt_data, moord_data, left_on='xmoord', right_on='xmoord', how='left')"
   ]
  },
  {
   "cell_type": "code",
   "execution_count": 19,
   "id": "f734bbb3",
   "metadata": {},
   "outputs": [],
   "source": [
    "merged_mo.to_excel('total_mo.xlsx')"
   ]
  },
  {
   "cell_type": "code",
   "execution_count": 20,
   "id": "d3fb92cb",
   "metadata": {},
   "outputs": [],
   "source": [
    "merged_mo_agg = merged_mo.groupby(['raw','goods']).agg({\n",
    "    'xqtyord': 'sum',      \n",
    "    'xqtyprd': 'sum',       \n",
    "    'xrate': 'mean'     \n",
    "}).reset_index()"
   ]
  },
  {
   "cell_type": "code",
   "execution_count": 21,
   "id": "7444a5ca",
   "metadata": {},
   "outputs": [],
   "source": [
    "merged_mo_agg = merged_mo_agg.sort_values(by='goods', ascending=True)"
   ]
  },
  {
   "cell_type": "code",
   "execution_count": 22,
   "id": "29fea589",
   "metadata": {},
   "outputs": [],
   "source": [
    "merged_mo_agg['xqty/unit'] = merged_mo_agg['xqtyord']/merged_mo_agg['xqtyprd']"
   ]
  },
  {
   "cell_type": "code",
   "execution_count": 23,
   "id": "57816306",
   "metadata": {},
   "outputs": [],
   "source": [
    "merged_mo_unit = merged_mo_agg[['goods','raw','xqty/unit', 'xrate']]"
   ]
  },
  {
   "cell_type": "code",
   "execution_count": 24,
   "id": "4a0a62ea",
   "metadata": {},
   "outputs": [],
   "source": [
    "merged_mo_unit.to_excel('finished_raw_ratio_rate.xlsx')"
   ]
  },
  {
   "cell_type": "code",
   "execution_count": 25,
   "id": "97689635",
   "metadata": {},
   "outputs": [],
   "source": [
    "sales_data_agg = sales_data_m.groupby(['xitem','xdesc']).agg({\n",
    "    'xqty': lambda x: round(x.mean(), 2),     \n",
    "    'xval': lambda x: round(x.mean(), 2),       \n",
    "    'xlineamt': lambda x: round(x.mean(), 2)  \n",
    "}).reset_index()"
   ]
  },
  {
   "cell_type": "code",
   "execution_count": 26,
   "id": "0cc04ed3",
   "metadata": {},
   "outputs": [],
   "source": [
    "sales_data_agg.to_excel('Average_sales_product.xlsx')"
   ]
  },
  {
   "cell_type": "code",
   "execution_count": 27,
   "id": "1b4dcb54",
   "metadata": {},
   "outputs": [
    {
     "data": {
      "text/plain": [
       "Index(['xitem', 'xdesc', 'xqty', 'xval', 'xlineamt'], dtype='object')"
      ]
     },
     "execution_count": 27,
     "metadata": {},
     "output_type": "execute_result"
    }
   ],
   "source": [
    "sales_data_agg.columns"
   ]
  },
  {
   "cell_type": "code",
   "execution_count": 28,
   "id": "7bea379e",
   "metadata": {},
   "outputs": [
    {
     "data": {
      "text/plain": [
       "Index(['goods', 'raw', 'xqty/unit', 'xrate'], dtype='object')"
      ]
     },
     "execution_count": 28,
     "metadata": {},
     "output_type": "execute_result"
    }
   ],
   "source": [
    "merged_mo_unit.columns"
   ]
  },
  {
   "cell_type": "code",
   "execution_count": 29,
   "id": "dfbcc586",
   "metadata": {},
   "outputs": [],
   "source": [
    "products = sales_data_agg['xitem'].unique()\n",
    "average_sales = dict(zip(sales_data_agg['xitem'], sales_data_agg['xqty']))"
   ]
  },
  {
   "cell_type": "code",
   "execution_count": null,
   "id": "6de37b03",
   "metadata": {},
   "outputs": [],
   "source": []
  },
  {
   "cell_type": "code",
   "execution_count": null,
   "id": "6e236cb4",
   "metadata": {},
   "outputs": [],
   "source": []
  },
  {
   "cell_type": "code",
   "execution_count": 31,
   "id": "b8842db2",
   "metadata": {},
   "outputs": [],
   "source": [
    "raw_material_rate = merged_mo_unit.groupby(['raw']).agg({\n",
    "    'xrate': lambda x: round(x.mean(), 2),      \n",
    "}).reset_index()"
   ]
  },
  {
   "cell_type": "code",
   "execution_count": 35,
   "id": "994c0447",
   "metadata": {},
   "outputs": [],
   "source": [
    "raw_material_rate.to_excel('raw_rate.xlsx')"
   ]
  },
  {
   "cell_type": "code",
   "execution_count": null,
   "id": "4aa84011",
   "metadata": {},
   "outputs": [],
   "source": []
  },
  {
   "cell_type": "code",
   "execution_count": 162,
   "id": "d468e53f",
   "metadata": {},
   "outputs": [],
   "source": []
  },
  {
   "cell_type": "code",
   "execution_count": null,
   "id": "d5cc7123",
   "metadata": {},
   "outputs": [],
   "source": []
  },
  {
   "cell_type": "code",
   "execution_count": null,
   "id": "565f7d02",
   "metadata": {},
   "outputs": [],
   "source": []
  },
  {
   "cell_type": "code",
   "execution_count": null,
   "id": "73109bfd",
   "metadata": {},
   "outputs": [],
   "source": []
  }
 ],
 "metadata": {
  "kernelspec": {
   "display_name": "Python 3",
   "language": "python",
   "name": "python3"
  },
  "language_info": {
   "codemirror_mode": {
    "name": "ipython",
    "version": 3
   },
   "file_extension": ".py",
   "mimetype": "text/x-python",
   "name": "python",
   "nbconvert_exporter": "python",
   "pygments_lexer": "ipython3",
   "version": "3.6.9"
  }
 },
 "nbformat": 4,
 "nbformat_minor": 5
}
