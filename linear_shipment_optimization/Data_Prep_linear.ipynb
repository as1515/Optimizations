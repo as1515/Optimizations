{
 "cells": [
  {
   "cell_type": "code",
   "execution_count": 42,
   "id": "86cb3697",
   "metadata": {},
   "outputs": [],
   "source": [
    "import pandas as pd\n",
    "import numpy as np\n",
    "import re"
   ]
  },
  {
   "cell_type": "code",
   "execution_count": 43,
   "id": "68358430",
   "metadata": {},
   "outputs": [],
   "source": [
    "init_df = pd.read_excel('PurchaseRequirement1.xlsx', engine = 'openpyxl')"
   ]
  },
  {
   "cell_type": "code",
   "execution_count": 44,
   "id": "d8252e14",
   "metadata": {},
   "outputs": [],
   "source": [
    "#Initial filters on itemcode from purchaseReuirement\n",
    "init_df = init_df.drop(columns=['Unnamed: 0'])\n",
    "init_df = init_df[~init_df['itemcode'].str.startswith(('RAW', 'KRI', 'F'), na=False)]\n",
    "init_df = init_df[~init_df['itemcode'].str.endswith(('R', 'N'), na=False)]"
   ]
  },
  {
   "cell_type": "code",
   "execution_count": 45,
   "id": "e18b86d8",
   "metadata": {},
   "outputs": [],
   "source": [
    "#filters for date, profit with div# and numeric 0\n",
    "numeric_columns = init_df.select_dtypes(include=['int64', 'float64']).columns\n",
    "combinedate_condition = init_df['combinedate'] == '1970-01-01'\n",
    "numeric_condition = (init_df[numeric_columns] == 0).all(axis=1)\n",
    "combined_condition = combinedate_condition & numeric_condition\n",
    "init_df = init_df[~combined_condition]\n",
    "#all out-of-date products need to be reviewed\n",
    "init_df = init_df[(init_df['combinedate'] != '1970-01-01') & (init_df['combinedate'] >= '2020-01-01')]\n",
    "#create and sort by profit\n",
    "init_df['Profit%'] = (((init_df['average sales price'] - init_df['cost'])*init_df['n-mean'])/(init_df['n-mean']*init_df['average sales price']))*100\n",
    "init_df = init_df[~init_df['Profit%'].isna()]\n",
    "init_df = init_df[init_df['Profit%'] != -np.inf]\n",
    "init_df['Stockestimate'] = init_df['final_stock'] - init_df['n-mean']\n",
    "init_df = init_df[init_df['Stockestimate'] <= 0]\n",
    "init_df = init_df.sort_values(by='Profit%', ascending=False)"
   ]
  },
  {
   "cell_type": "code",
   "execution_count": 46,
   "id": "750a269d",
   "metadata": {},
   "outputs": [],
   "source": [
    "#Product details - shipment related - MOQ, Pcs/Ctn, Ctn Weight, Cbm/ Ctn\n",
    "details_df = pd.read_excel('AllSalesConfirmationDatabaseUpdated.xlsx', engine = 'openpyxl')\n",
    "details_df = details_df.drop(columns=['Packing ', 'Remarks', 'Shipment', 'Unnamed: 21'])\n",
    "details_df = details_df.dropna(subset=['Quantity', 'Pcs/ Ctn', 'carton weight', 'CBM/ Ctn'])\n",
    "details_df['Code'] = details_df['Code'].astype(str)"
   ]
  },
  {
   "cell_type": "code",
   "execution_count": 47,
   "id": "76b2cb89",
   "metadata": {},
   "outputs": [],
   "source": [
    "details_df = details_df.groupby(['Code']).agg({\n",
    "    'Quantity': 'min',\n",
    "    'Pcs/ Ctn': lambda x: round(x.mean()),\n",
    "    'carton weight': lambda x: round(x.mean()),\n",
    "    'CBM/ Ctn': lambda x: x.mean()\n",
    "}).reset_index()"
   ]
  },
  {
   "cell_type": "code",
   "execution_count": 48,
   "id": "4917b1f9",
   "metadata": {},
   "outputs": [],
   "source": [
    "selected_init_df = init_df[['itemcode', 'itemname','n-mean']]\n",
    "merged_df = selected_init_df.merge(details_df, left_on='itemcode', right_on='Code', how='inner')"
   ]
  },
  {
   "cell_type": "code",
   "execution_count": 49,
   "id": "572de623",
   "metadata": {},
   "outputs": [],
   "source": [
    "merged_df['MOQ'] = merged_df['Quantity']/merged_df['Pcs/ Ctn']\n",
    "merged_df = merged_df.drop(columns=['Quantity'])"
   ]
  },
  {
   "cell_type": "code",
   "execution_count": 50,
   "id": "2035d2ac",
   "metadata": {},
   "outputs": [],
   "source": [
    "doz_df = pd.read_excel('item-doz.xlsx', engine = 'openpyxl')\n",
    "doz_df = doz_df[doz_df['xunitpck']=='Dozen']"
   ]
  },
  {
   "cell_type": "code",
   "execution_count": 51,
   "id": "21c5911d",
   "metadata": {},
   "outputs": [],
   "source": [
    "matching_products = merged_df['itemcode'].isin(doz_df['xitem'])\n",
    "merged_df.loc[matching_products, 'Pcs/ Ctn'] = merged_df.loc[matching_products, 'Pcs/ Ctn'] / 12"
   ]
  },
  {
   "cell_type": "code",
   "execution_count": null,
   "id": "1c2e35ef",
   "metadata": {},
   "outputs": [],
   "source": []
  },
  {
   "cell_type": "code",
   "execution_count": 52,
   "id": "987f3903",
   "metadata": {},
   "outputs": [],
   "source": [
    "cost_df = pd.read_excel('AllPriceCalculationDataUpdated.xlsx', engine = 'openpyxl')\n",
    "cost_df = cost_df[['Code','Product Name','Import Price/ Unit Tk.','Prime Cost with VAT+Packing','New Selling Price/ Unit (WS)','Shipment ']]\n",
    "cost_df['Code'] = cost_df['Code'].astype(str)\n",
    "cost_df = cost_df.sort_values(by='Code',ascending=True)"
   ]
  },
  {
   "cell_type": "code",
   "execution_count": 53,
   "id": "20bf5432",
   "metadata": {},
   "outputs": [],
   "source": [
    "#Shipment year and number for sorting\n",
    "def extract_year(shipment):\n",
    "    # KF002/23 -> 23\n",
    "    match_last_two_digits = re.search(r'/(\\d{2})$', shipment)\n",
    "    if match_last_two_digits:\n",
    "        return int(match_last_two_digits.group(1))\n",
    "    \n",
    "    # KH18-801 or KF18-801 -> 18\n",
    "    match_first_two_digits = re.search(r'[A-Z]{2}(\\d{2})-', shipment)\n",
    "    if match_first_two_digits:\n",
    "        return int(match_first_two_digits.group(1))\n",
    "    \n",
    "    return None\n",
    "\n",
    "def extract_shipment_number(shipment):\n",
    "    # KF002/23 -> 002 --> 2\n",
    "    match_shipment_number_slash = re.search(r'[A-Z]{2}(\\d{3})/', shipment)\n",
    "    if match_shipment_number_slash:\n",
    "        return int(match_shipment_number_slash.group(1)[-1])  \n",
    "\n",
    "    # KH18-801 or KF18-801 -> 801 --> 1\n",
    "    match_shipment_number_hyphen = re.search(r'[A-Z]{2}\\d{2}-(\\d+)', shipment)\n",
    "    if match_shipment_number_hyphen:\n",
    "        return int(match_shipment_number_hyphen.group(1)[-1]) \n",
    "\n",
    "    return None\n",
    "\n",
    "cost_df['Year'] = cost_df['Shipment '].apply(extract_year)\n",
    "cost_df['Shipment#'] = cost_df['Shipment '].apply(extract_shipment_number)"
   ]
  },
  {
   "cell_type": "code",
   "execution_count": 54,
   "id": "ea7bb7ef",
   "metadata": {},
   "outputs": [],
   "source": [
    "#data clean up, by filling in missing import/price/sales prices by taken the next ratio\n",
    "for product_code, group in cost_df.groupby('Code'):\n",
    "    indices_to_drop = []\n",
    "    for i in group.index:\n",
    "        if pd.isna(cost_df.loc[i, 'Import Price/ Unit Tk.']) and pd.isna(cost_df.loc[i, 'Prime Cost with VAT+Packing']):\n",
    "            indices_to_drop.append(i)\n",
    "            continue\n",
    "\n",
    "        if pd.isna(cost_df.loc[i, 'New Selling Price/ Unit (WS)']) and pd.isna(cost_df.loc[i, 'Prime Cost with VAT+Packing']):\n",
    "            indices_to_drop.append(i)\n",
    "            continue\n",
    "\n",
    "        if pd.isna(cost_df.loc[i, 'Import Price/ Unit Tk.']) and pd.isna(cost_df.loc[i, 'New Selling Price/ Unit (WS)']):\n",
    "            indices_to_drop.append(i)\n",
    "            continue\n",
    "\n",
    "        if pd.isna(cost_df.loc[i, 'Prime Cost with VAT+Packing']):\n",
    "            previous_index = i - 1\n",
    "            if previous_index >= 0 and cost_df.loc[previous_index, 'Code'] == product_code:\n",
    "                import_price_ratio = cost_df.loc[i, 'Import Price/ Unit Tk.'] / cost_df.loc[previous_index, 'Import Price/ Unit Tk.']\n",
    "                cost_df.loc[i, 'Prime Cost with VAT+Packing'] = cost_df.loc[previous_index, 'Prime Cost with VAT+Packing'] * import_price_ratio\n",
    "\n",
    "        if pd.isna(cost_df.loc[i, 'Import Price/ Unit Tk.']):\n",
    "            previous_index = i - 1\n",
    "            if previous_index >= 0 and cost_df.loc[previous_index, 'Code'] == product_code:\n",
    "                prime_cost_ratio = cost_df.loc[i, 'Prime Cost with VAT+Packing'] / cost_df.loc[previous_index, 'Prime Cost with VAT+Packing']\n",
    "                cost_df.loc[i, 'Import Price/ Unit Tk.'] = cost_df.loc[previous_index, 'Import Price/ Unit Tk.'] * prime_cost_ratio\n",
    "\n",
    "        if pd.isna(cost_df.loc[i, 'New Selling Price/ Unit (WS)']):\n",
    "            previous_index = i - 1\n",
    "            if previous_index >= 0 and cost_df.loc[previous_index, 'Code'] == product_code:\n",
    "                prime_cost_ratio = cost_df.loc[i, 'Prime Cost with VAT+Packing'] / cost_df.loc[previous_index, 'Prime Cost with VAT+Packing']\n",
    "                cost_df.loc[i, 'New Selling Price/ Unit (WS)'] = cost_df.loc[previous_index, 'New Selling Price/ Unit (WS)'] * prime_cost_ratio\n",
    "                \n",
    "    cost_df.drop(index=indices_to_drop, inplace=True)\n",
    "cost_df.reset_index(drop=True, inplace=True)"
   ]
  },
  {
   "cell_type": "code",
   "execution_count": 55,
   "id": "452338a0",
   "metadata": {},
   "outputs": [],
   "source": [
    "costl_df = cost_df[cost_df['Year'] >= 21]\n",
    "costl_df = costl_df.sort_values(by=['Code', 'Year', 'Shipment#'], ascending=[True, False, False])\n",
    "costlop_df = costl_df.drop_duplicates(subset=['Code'], keep='first')"
   ]
  },
  {
   "cell_type": "code",
   "execution_count": 56,
   "id": "74a2f588",
   "metadata": {},
   "outputs": [],
   "source": [
    "final_merged_df = pd.merge(merged_df, costlop_df, left_on='itemcode', right_on='Code', how='inner')\n",
    "final_merged_df = final_merged_df.drop(columns=['Code_x', 'Code_y', 'Product Name'])"
   ]
  },
  {
   "cell_type": "code",
   "execution_count": 57,
   "id": "59e20338",
   "metadata": {},
   "outputs": [],
   "source": [
    "final_merged_df['Price/unit'] = final_merged_df['Pcs/ Ctn'] * final_merged_df['Import Price/ Unit Tk.']\n",
    "final_merged_df['Profit/unit'] = (final_merged_df['New Selling Price/ Unit (WS)'] - final_merged_df['Prime Cost with VAT+Packing']) * final_merged_df['Pcs/ Ctn']\n",
    "final_merged_df['Demand/month'] = final_merged_df['n-mean']/final_merged_df['Pcs/ Ctn']\n",
    "final_merged_df.rename(columns={'MOQ': 'MOQ/unit',\n",
    "                                'carton weight': 'Weight/unit',\n",
    "                                'CBM/ Ctn': 'CBM/unit',\n",
    "                                'itemcode': 'Code',\n",
    "                                'itemname': 'Name',\n",
    "                                'Pcs/ Ctn': 'Pcs/Ctn'}, inplace=True)\n",
    "final_merged_df = final_merged_df[['Code', 'Name', 'Demand/month','MOQ/unit', 'CBM/unit', 'Weight/unit', 'Price/unit', 'Profit/unit','Pcs/Ctn']]\n"
   ]
  },
  {
   "cell_type": "code",
   "execution_count": 58,
   "id": "7fbca581",
   "metadata": {},
   "outputs": [],
   "source": [
    "# for linear\n",
    "final_merged_df_lin = final_merged_df[['Code', 'Name', 'Demand/month','MOQ/unit', 'CBM/unit', 'Weight/unit', 'Price/unit', 'Profit/unit']]\n",
    "final_merged_df_lin.to_excel('shipment_linear.xlsx')"
   ]
  },
  {
   "cell_type": "code",
   "execution_count": 59,
   "id": "cc41438b",
   "metadata": {},
   "outputs": [],
   "source": [
    "# for stochastic optimization with scenario analysis"
   ]
  },
  {
   "cell_type": "code",
   "execution_count": 60,
   "id": "31d1feb6",
   "metadata": {},
   "outputs": [],
   "source": [
    "final_merged_df_stoch = final_merged_df[['Code', 'Name','MOQ/unit', 'CBM/unit', 'Weight/unit', 'Price/unit','Pcs/Ctn']]\n",
    "final_merged_df_stoch.to_excel('shipment_stochastic.xlsx')"
   ]
  },
  {
   "cell_type": "code",
   "execution_count": 20,
   "id": "e2353dd7",
   "metadata": {},
   "outputs": [],
   "source": [
    "# use list of consequent products within basket analysis, to query the database to bring in consequent products, if not within purchase requirement\n",
    "# then use linear optimization with complementary constraint."
   ]
  },
  {
   "cell_type": "code",
   "execution_count": null,
   "id": "66c06c77",
   "metadata": {},
   "outputs": [],
   "source": []
  },
  {
   "cell_type": "code",
   "execution_count": null,
   "id": "42396ce8",
   "metadata": {},
   "outputs": [],
   "source": []
  },
  {
   "cell_type": "code",
   "execution_count": null,
   "id": "d510be2a",
   "metadata": {},
   "outputs": [],
   "source": []
  }
 ],
 "metadata": {
  "kernelspec": {
   "display_name": "Python 3",
   "language": "python",
   "name": "python3"
  },
  "language_info": {
   "codemirror_mode": {
    "name": "ipython",
    "version": 3
   },
   "file_extension": ".py",
   "mimetype": "text/x-python",
   "name": "python",
   "nbconvert_exporter": "python",
   "pygments_lexer": "ipython3",
   "version": "3.6.9"
  }
 },
 "nbformat": 4,
 "nbformat_minor": 5
}
